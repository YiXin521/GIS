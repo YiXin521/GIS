{
  "nbformat": 4,
  "nbformat_minor": 0,
  "metadata": {
    "colab": {
      "name": "Deep Learning with PyTorch.ipynb",
      "provenance": [],
      "authorship_tag": "ABX9TyPoRrDRiNjNUPFCAO7eqTlE",
      "include_colab_link": true
    },
    "kernelspec": {
      "name": "python3",
      "display_name": "Python 3"
    },
    "language_info": {
      "name": "python"
    }
  },
  "cells": [
    {
      "cell_type": "markdown",
      "metadata": {
        "id": "view-in-github",
        "colab_type": "text"
      },
      "source": [
        "<a href=\"https://colab.research.google.com/github/YiXin521/Python-practice/blob/master/Deep_Learning_with_PyTorch.ipynb\" target=\"_parent\"><img src=\"https://colab.research.google.com/assets/colab-badge.svg\" alt=\"Open In Colab\"/></a>"
      ]
    },
    {
      "cell_type": "markdown",
      "source": [
        "# [Practice] Deep Learning with PyTorch\n",
        "\n",
        "This practice is referenced from Microsoft Machine Learning Courses [Deep Learning with PyTorch](https://github.com/MicrosoftDocs/ml-basics/blob/ee7bccccf5dd1a95f9d547b2e9e5fd68f61fe02e/05a%20-%20Deep%20Neural%20Networks%20(PyTorch).ipynb)\n"
      ],
      "metadata": {
        "id": "fFYrJjbiYQ5l"
      }
    },
    {
      "cell_type": "code",
      "source": [
        "import pandas as pd\n",
        "\n",
        "url = \"https://github.com/MicrosoftDocs/ml-basics/blob/ee7bccccf5dd1a95f9d547b2e9e5fd68f61fe02e/data/penguins.csv?raw=true\"\n",
        "penguins = pd.read_csv(url).dropna()\n",
        "penguins.describe()"
      ],
      "metadata": {
        "colab": {
          "base_uri": "https://localhost:8080/",
          "height": 300
        },
        "id": "FQBmCc8GaSPf",
        "outputId": "7a7e780e-5e3b-40d4-8479-30ad5d9f132a"
      },
      "execution_count": 59,
      "outputs": [
        {
          "output_type": "execute_result",
          "data": {
            "text/plain": [
              "       CulmenLength  CulmenDepth  FlipperLength     BodyMass     Species\n",
              "count    342.000000   342.000000     342.000000   342.000000  342.000000\n",
              "mean      43.921930    17.151170     200.915205  4201.754386    0.757310\n",
              "std        5.459584     1.974793      14.061714   801.954536    0.763648\n",
              "min       32.100000    13.100000     172.000000  2700.000000    0.000000\n",
              "25%       39.225000    15.600000     190.000000  3550.000000    0.000000\n",
              "50%       44.450000    17.300000     197.000000  4050.000000    1.000000\n",
              "75%       48.500000    18.700000     213.000000  4750.000000    1.000000\n",
              "max       59.600000    21.500000     231.000000  6300.000000    2.000000"
            ],
            "text/html": [
              "\n",
              "  <div id=\"df-283da748-e30e-4dac-bc5e-b6a01ebee112\">\n",
              "    <div class=\"colab-df-container\">\n",
              "      <div>\n",
              "<style scoped>\n",
              "    .dataframe tbody tr th:only-of-type {\n",
              "        vertical-align: middle;\n",
              "    }\n",
              "\n",
              "    .dataframe tbody tr th {\n",
              "        vertical-align: top;\n",
              "    }\n",
              "\n",
              "    .dataframe thead th {\n",
              "        text-align: right;\n",
              "    }\n",
              "</style>\n",
              "<table border=\"1\" class=\"dataframe\">\n",
              "  <thead>\n",
              "    <tr style=\"text-align: right;\">\n",
              "      <th></th>\n",
              "      <th>CulmenLength</th>\n",
              "      <th>CulmenDepth</th>\n",
              "      <th>FlipperLength</th>\n",
              "      <th>BodyMass</th>\n",
              "      <th>Species</th>\n",
              "    </tr>\n",
              "  </thead>\n",
              "  <tbody>\n",
              "    <tr>\n",
              "      <th>count</th>\n",
              "      <td>342.000000</td>\n",
              "      <td>342.000000</td>\n",
              "      <td>342.000000</td>\n",
              "      <td>342.000000</td>\n",
              "      <td>342.000000</td>\n",
              "    </tr>\n",
              "    <tr>\n",
              "      <th>mean</th>\n",
              "      <td>43.921930</td>\n",
              "      <td>17.151170</td>\n",
              "      <td>200.915205</td>\n",
              "      <td>4201.754386</td>\n",
              "      <td>0.757310</td>\n",
              "    </tr>\n",
              "    <tr>\n",
              "      <th>std</th>\n",
              "      <td>5.459584</td>\n",
              "      <td>1.974793</td>\n",
              "      <td>14.061714</td>\n",
              "      <td>801.954536</td>\n",
              "      <td>0.763648</td>\n",
              "    </tr>\n",
              "    <tr>\n",
              "      <th>min</th>\n",
              "      <td>32.100000</td>\n",
              "      <td>13.100000</td>\n",
              "      <td>172.000000</td>\n",
              "      <td>2700.000000</td>\n",
              "      <td>0.000000</td>\n",
              "    </tr>\n",
              "    <tr>\n",
              "      <th>25%</th>\n",
              "      <td>39.225000</td>\n",
              "      <td>15.600000</td>\n",
              "      <td>190.000000</td>\n",
              "      <td>3550.000000</td>\n",
              "      <td>0.000000</td>\n",
              "    </tr>\n",
              "    <tr>\n",
              "      <th>50%</th>\n",
              "      <td>44.450000</td>\n",
              "      <td>17.300000</td>\n",
              "      <td>197.000000</td>\n",
              "      <td>4050.000000</td>\n",
              "      <td>1.000000</td>\n",
              "    </tr>\n",
              "    <tr>\n",
              "      <th>75%</th>\n",
              "      <td>48.500000</td>\n",
              "      <td>18.700000</td>\n",
              "      <td>213.000000</td>\n",
              "      <td>4750.000000</td>\n",
              "      <td>1.000000</td>\n",
              "    </tr>\n",
              "    <tr>\n",
              "      <th>max</th>\n",
              "      <td>59.600000</td>\n",
              "      <td>21.500000</td>\n",
              "      <td>231.000000</td>\n",
              "      <td>6300.000000</td>\n",
              "      <td>2.000000</td>\n",
              "    </tr>\n",
              "  </tbody>\n",
              "</table>\n",
              "</div>\n",
              "      <button class=\"colab-df-convert\" onclick=\"convertToInteractive('df-283da748-e30e-4dac-bc5e-b6a01ebee112')\"\n",
              "              title=\"Convert this dataframe to an interactive table.\"\n",
              "              style=\"display:none;\">\n",
              "        \n",
              "  <svg xmlns=\"http://www.w3.org/2000/svg\" height=\"24px\"viewBox=\"0 0 24 24\"\n",
              "       width=\"24px\">\n",
              "    <path d=\"M0 0h24v24H0V0z\" fill=\"none\"/>\n",
              "    <path d=\"M18.56 5.44l.94 2.06.94-2.06 2.06-.94-2.06-.94-.94-2.06-.94 2.06-2.06.94zm-11 1L8.5 8.5l.94-2.06 2.06-.94-2.06-.94L8.5 2.5l-.94 2.06-2.06.94zm10 10l.94 2.06.94-2.06 2.06-.94-2.06-.94-.94-2.06-.94 2.06-2.06.94z\"/><path d=\"M17.41 7.96l-1.37-1.37c-.4-.4-.92-.59-1.43-.59-.52 0-1.04.2-1.43.59L10.3 9.45l-7.72 7.72c-.78.78-.78 2.05 0 2.83L4 21.41c.39.39.9.59 1.41.59.51 0 1.02-.2 1.41-.59l7.78-7.78 2.81-2.81c.8-.78.8-2.07 0-2.86zM5.41 20L4 18.59l7.72-7.72 1.47 1.35L5.41 20z\"/>\n",
              "  </svg>\n",
              "      </button>\n",
              "      \n",
              "  <style>\n",
              "    .colab-df-container {\n",
              "      display:flex;\n",
              "      flex-wrap:wrap;\n",
              "      gap: 12px;\n",
              "    }\n",
              "\n",
              "    .colab-df-convert {\n",
              "      background-color: #E8F0FE;\n",
              "      border: none;\n",
              "      border-radius: 50%;\n",
              "      cursor: pointer;\n",
              "      display: none;\n",
              "      fill: #1967D2;\n",
              "      height: 32px;\n",
              "      padding: 0 0 0 0;\n",
              "      width: 32px;\n",
              "    }\n",
              "\n",
              "    .colab-df-convert:hover {\n",
              "      background-color: #E2EBFA;\n",
              "      box-shadow: 0px 1px 2px rgba(60, 64, 67, 0.3), 0px 1px 3px 1px rgba(60, 64, 67, 0.15);\n",
              "      fill: #174EA6;\n",
              "    }\n",
              "\n",
              "    [theme=dark] .colab-df-convert {\n",
              "      background-color: #3B4455;\n",
              "      fill: #D2E3FC;\n",
              "    }\n",
              "\n",
              "    [theme=dark] .colab-df-convert:hover {\n",
              "      background-color: #434B5C;\n",
              "      box-shadow: 0px 1px 3px 1px rgba(0, 0, 0, 0.15);\n",
              "      filter: drop-shadow(0px 1px 2px rgba(0, 0, 0, 0.3));\n",
              "      fill: #FFFFFF;\n",
              "    }\n",
              "  </style>\n",
              "\n",
              "      <script>\n",
              "        const buttonEl =\n",
              "          document.querySelector('#df-283da748-e30e-4dac-bc5e-b6a01ebee112 button.colab-df-convert');\n",
              "        buttonEl.style.display =\n",
              "          google.colab.kernel.accessAllowed ? 'block' : 'none';\n",
              "\n",
              "        async function convertToInteractive(key) {\n",
              "          const element = document.querySelector('#df-283da748-e30e-4dac-bc5e-b6a01ebee112');\n",
              "          const dataTable =\n",
              "            await google.colab.kernel.invokeFunction('convertToInteractive',\n",
              "                                                     [key], {});\n",
              "          if (!dataTable) return;\n",
              "\n",
              "          const docLinkHtml = 'Like what you see? Visit the ' +\n",
              "            '<a target=\"_blank\" href=https://colab.research.google.com/notebooks/data_table.ipynb>data table notebook</a>'\n",
              "            + ' to learn more about interactive tables.';\n",
              "          element.innerHTML = '';\n",
              "          dataTable['output_type'] = 'display_data';\n",
              "          await google.colab.output.renderOutput(dataTable, element);\n",
              "          const docLink = document.createElement('div');\n",
              "          docLink.innerHTML = docLinkHtml;\n",
              "          element.appendChild(docLink);\n",
              "        }\n",
              "      </script>\n",
              "    </div>\n",
              "  </div>\n",
              "  "
            ]
          },
          "metadata": {},
          "execution_count": 59
        }
      ]
    },
    {
      "cell_type": "code",
      "source": [
        "penguins['FlipperLength'] = penguins['FlipperLength']/10\n",
        "penguins['BodyMass'] = penguins['BodyMass']/100\n",
        "\n",
        "penguins.describe()"
      ],
      "metadata": {
        "colab": {
          "base_uri": "https://localhost:8080/",
          "height": 300
        },
        "id": "F7ZlamAyYYRE",
        "outputId": "63afac9f-3ee9-4a7d-b93f-a5a2924ede78"
      },
      "execution_count": 60,
      "outputs": [
        {
          "output_type": "execute_result",
          "data": {
            "text/plain": [
              "       CulmenLength  CulmenDepth  FlipperLength    BodyMass     Species\n",
              "count    342.000000   342.000000     342.000000  342.000000  342.000000\n",
              "mean      43.921930    17.151170      20.091520   42.017544    0.757310\n",
              "std        5.459584     1.974793       1.406171    8.019545    0.763648\n",
              "min       32.100000    13.100000      17.200000   27.000000    0.000000\n",
              "25%       39.225000    15.600000      19.000000   35.500000    0.000000\n",
              "50%       44.450000    17.300000      19.700000   40.500000    1.000000\n",
              "75%       48.500000    18.700000      21.300000   47.500000    1.000000\n",
              "max       59.600000    21.500000      23.100000   63.000000    2.000000"
            ],
            "text/html": [
              "\n",
              "  <div id=\"df-a4ea250d-8f02-4216-af33-b4f7f42d9d15\">\n",
              "    <div class=\"colab-df-container\">\n",
              "      <div>\n",
              "<style scoped>\n",
              "    .dataframe tbody tr th:only-of-type {\n",
              "        vertical-align: middle;\n",
              "    }\n",
              "\n",
              "    .dataframe tbody tr th {\n",
              "        vertical-align: top;\n",
              "    }\n",
              "\n",
              "    .dataframe thead th {\n",
              "        text-align: right;\n",
              "    }\n",
              "</style>\n",
              "<table border=\"1\" class=\"dataframe\">\n",
              "  <thead>\n",
              "    <tr style=\"text-align: right;\">\n",
              "      <th></th>\n",
              "      <th>CulmenLength</th>\n",
              "      <th>CulmenDepth</th>\n",
              "      <th>FlipperLength</th>\n",
              "      <th>BodyMass</th>\n",
              "      <th>Species</th>\n",
              "    </tr>\n",
              "  </thead>\n",
              "  <tbody>\n",
              "    <tr>\n",
              "      <th>count</th>\n",
              "      <td>342.000000</td>\n",
              "      <td>342.000000</td>\n",
              "      <td>342.000000</td>\n",
              "      <td>342.000000</td>\n",
              "      <td>342.000000</td>\n",
              "    </tr>\n",
              "    <tr>\n",
              "      <th>mean</th>\n",
              "      <td>43.921930</td>\n",
              "      <td>17.151170</td>\n",
              "      <td>20.091520</td>\n",
              "      <td>42.017544</td>\n",
              "      <td>0.757310</td>\n",
              "    </tr>\n",
              "    <tr>\n",
              "      <th>std</th>\n",
              "      <td>5.459584</td>\n",
              "      <td>1.974793</td>\n",
              "      <td>1.406171</td>\n",
              "      <td>8.019545</td>\n",
              "      <td>0.763648</td>\n",
              "    </tr>\n",
              "    <tr>\n",
              "      <th>min</th>\n",
              "      <td>32.100000</td>\n",
              "      <td>13.100000</td>\n",
              "      <td>17.200000</td>\n",
              "      <td>27.000000</td>\n",
              "      <td>0.000000</td>\n",
              "    </tr>\n",
              "    <tr>\n",
              "      <th>25%</th>\n",
              "      <td>39.225000</td>\n",
              "      <td>15.600000</td>\n",
              "      <td>19.000000</td>\n",
              "      <td>35.500000</td>\n",
              "      <td>0.000000</td>\n",
              "    </tr>\n",
              "    <tr>\n",
              "      <th>50%</th>\n",
              "      <td>44.450000</td>\n",
              "      <td>17.300000</td>\n",
              "      <td>19.700000</td>\n",
              "      <td>40.500000</td>\n",
              "      <td>1.000000</td>\n",
              "    </tr>\n",
              "    <tr>\n",
              "      <th>75%</th>\n",
              "      <td>48.500000</td>\n",
              "      <td>18.700000</td>\n",
              "      <td>21.300000</td>\n",
              "      <td>47.500000</td>\n",
              "      <td>1.000000</td>\n",
              "    </tr>\n",
              "    <tr>\n",
              "      <th>max</th>\n",
              "      <td>59.600000</td>\n",
              "      <td>21.500000</td>\n",
              "      <td>23.100000</td>\n",
              "      <td>63.000000</td>\n",
              "      <td>2.000000</td>\n",
              "    </tr>\n",
              "  </tbody>\n",
              "</table>\n",
              "</div>\n",
              "      <button class=\"colab-df-convert\" onclick=\"convertToInteractive('df-a4ea250d-8f02-4216-af33-b4f7f42d9d15')\"\n",
              "              title=\"Convert this dataframe to an interactive table.\"\n",
              "              style=\"display:none;\">\n",
              "        \n",
              "  <svg xmlns=\"http://www.w3.org/2000/svg\" height=\"24px\"viewBox=\"0 0 24 24\"\n",
              "       width=\"24px\">\n",
              "    <path d=\"M0 0h24v24H0V0z\" fill=\"none\"/>\n",
              "    <path d=\"M18.56 5.44l.94 2.06.94-2.06 2.06-.94-2.06-.94-.94-2.06-.94 2.06-2.06.94zm-11 1L8.5 8.5l.94-2.06 2.06-.94-2.06-.94L8.5 2.5l-.94 2.06-2.06.94zm10 10l.94 2.06.94-2.06 2.06-.94-2.06-.94-.94-2.06-.94 2.06-2.06.94z\"/><path d=\"M17.41 7.96l-1.37-1.37c-.4-.4-.92-.59-1.43-.59-.52 0-1.04.2-1.43.59L10.3 9.45l-7.72 7.72c-.78.78-.78 2.05 0 2.83L4 21.41c.39.39.9.59 1.41.59.51 0 1.02-.2 1.41-.59l7.78-7.78 2.81-2.81c.8-.78.8-2.07 0-2.86zM5.41 20L4 18.59l7.72-7.72 1.47 1.35L5.41 20z\"/>\n",
              "  </svg>\n",
              "      </button>\n",
              "      \n",
              "  <style>\n",
              "    .colab-df-container {\n",
              "      display:flex;\n",
              "      flex-wrap:wrap;\n",
              "      gap: 12px;\n",
              "    }\n",
              "\n",
              "    .colab-df-convert {\n",
              "      background-color: #E8F0FE;\n",
              "      border: none;\n",
              "      border-radius: 50%;\n",
              "      cursor: pointer;\n",
              "      display: none;\n",
              "      fill: #1967D2;\n",
              "      height: 32px;\n",
              "      padding: 0 0 0 0;\n",
              "      width: 32px;\n",
              "    }\n",
              "\n",
              "    .colab-df-convert:hover {\n",
              "      background-color: #E2EBFA;\n",
              "      box-shadow: 0px 1px 2px rgba(60, 64, 67, 0.3), 0px 1px 3px 1px rgba(60, 64, 67, 0.15);\n",
              "      fill: #174EA6;\n",
              "    }\n",
              "\n",
              "    [theme=dark] .colab-df-convert {\n",
              "      background-color: #3B4455;\n",
              "      fill: #D2E3FC;\n",
              "    }\n",
              "\n",
              "    [theme=dark] .colab-df-convert:hover {\n",
              "      background-color: #434B5C;\n",
              "      box-shadow: 0px 1px 3px 1px rgba(0, 0, 0, 0.15);\n",
              "      filter: drop-shadow(0px 1px 2px rgba(0, 0, 0, 0.3));\n",
              "      fill: #FFFFFF;\n",
              "    }\n",
              "  </style>\n",
              "\n",
              "      <script>\n",
              "        const buttonEl =\n",
              "          document.querySelector('#df-a4ea250d-8f02-4216-af33-b4f7f42d9d15 button.colab-df-convert');\n",
              "        buttonEl.style.display =\n",
              "          google.colab.kernel.accessAllowed ? 'block' : 'none';\n",
              "\n",
              "        async function convertToInteractive(key) {\n",
              "          const element = document.querySelector('#df-a4ea250d-8f02-4216-af33-b4f7f42d9d15');\n",
              "          const dataTable =\n",
              "            await google.colab.kernel.invokeFunction('convertToInteractive',\n",
              "                                                     [key], {});\n",
              "          if (!dataTable) return;\n",
              "\n",
              "          const docLinkHtml = 'Like what you see? Visit the ' +\n",
              "            '<a target=\"_blank\" href=https://colab.research.google.com/notebooks/data_table.ipynb>data table notebook</a>'\n",
              "            + ' to learn more about interactive tables.';\n",
              "          element.innerHTML = '';\n",
              "          dataTable['output_type'] = 'display_data';\n",
              "          await google.colab.output.renderOutput(dataTable, element);\n",
              "          const docLink = document.createElement('div');\n",
              "          docLink.innerHTML = docLinkHtml;\n",
              "          element.appendChild(docLink);\n",
              "        }\n",
              "      </script>\n",
              "    </div>\n",
              "  </div>\n",
              "  "
            ]
          },
          "metadata": {},
          "execution_count": 60
        }
      ]
    },
    {
      "cell_type": "code",
      "source": [
        "for i in range(0,4):\n",
        "    penguins = penguins.append(penguins)\n",
        "print(len(penguins))\n"
      ],
      "metadata": {
        "colab": {
          "base_uri": "https://localhost:8080/"
        },
        "id": "HLuq5sWRha5l",
        "outputId": "70b6b3a8-baef-4c49-c98e-c87e13782362"
      },
      "execution_count": 61,
      "outputs": [
        {
          "output_type": "stream",
          "name": "stdout",
          "text": [
            "5472\n"
          ]
        }
      ]
    },
    {
      "cell_type": "code",
      "source": [
        "from sklearn.model_selection import train_test_split\n",
        "\n",
        "features = ['CulmenLength','CulmenDepth','FlipperLength','BodyMass'] # X data\n",
        "label = 'Species' # y data\n",
        "penguin_classes = ['Adelie', 'Gentoo', 'Chinstrap']"
      ],
      "metadata": {
        "id": "VUWFd68Jijl_"
      },
      "execution_count": 62,
      "outputs": []
    },
    {
      "cell_type": "code",
      "source": [
        "# Split data 70%-30% into training set and test set\n",
        "x_train, x_test, y_train, y_test = train_test_split(penguins[features].values,\n",
        "                                                    penguins[label].values,\n",
        "                                                    test_size=0.30,\n",
        "                                                    random_state=0)"
      ],
      "metadata": {
        "id": "2eV8c9T2nph-"
      },
      "execution_count": 63,
      "outputs": []
    },
    {
      "cell_type": "code",
      "source": [
        "print ('Training Set: %d, Test Set: %d \\n' % (len(x_train), len(x_test)))"
      ],
      "metadata": {
        "colab": {
          "base_uri": "https://localhost:8080/"
        },
        "id": "PRlgjfg0ntTo",
        "outputId": "7bb9a3ad-46cf-4941-8603-0af1de66867e"
      },
      "execution_count": 64,
      "outputs": [
        {
          "output_type": "stream",
          "name": "stdout",
          "text": [
            "Training Set: 3830, Test Set: 1642 \n",
            "\n"
          ]
        }
      ]
    },
    {
      "cell_type": "code",
      "source": [
        "from collections import Counter\n",
        "print(Counter(y_train))\n",
        "print(Counter(y_test))"
      ],
      "metadata": {
        "colab": {
          "base_uri": "https://localhost:8080/"
        },
        "id": "siyLOWIhoi3U",
        "outputId": "88c3acc2-82a0-45a9-b189-2196d13e7bfe"
      },
      "execution_count": 65,
      "outputs": [
        {
          "output_type": "stream",
          "name": "stdout",
          "text": [
            "Counter({0: 1717, 1: 1355, 2: 758})\n",
            "Counter({0: 699, 1: 613, 2: 330})\n"
          ]
        }
      ]
    },
    {
      "cell_type": "markdown",
      "source": [
        "# Install and import the PyTorch libraries"
      ],
      "metadata": {
        "id": "uZxKgLz3rg7O"
      }
    },
    {
      "cell_type": "code",
      "source": [
        "!pip install torch==1.9.0+cpu torchvision==0.10.0+cpu torchaudio==0.9.0 -f https://download.pytorch.org/whl/torch_stable.html"
      ],
      "metadata": {
        "colab": {
          "base_uri": "https://localhost:8080/"
        },
        "id": "rgQfM27ErnFZ",
        "outputId": "927ddb84-7318-4184-ee6a-0e74ea69c92e"
      },
      "execution_count": 66,
      "outputs": [
        {
          "output_type": "stream",
          "name": "stdout",
          "text": [
            "Looking in links: https://download.pytorch.org/whl/torch_stable.html\n",
            "Requirement already satisfied: torch==1.9.0+cpu in /usr/local/lib/python3.7/dist-packages (1.9.0+cpu)\n",
            "Requirement already satisfied: torchvision==0.10.0+cpu in /usr/local/lib/python3.7/dist-packages (0.10.0+cpu)\n",
            "Requirement already satisfied: torchaudio==0.9.0 in /usr/local/lib/python3.7/dist-packages (0.9.0)\n",
            "Requirement already satisfied: typing-extensions in /usr/local/lib/python3.7/dist-packages (from torch==1.9.0+cpu) (4.2.0)\n",
            "Requirement already satisfied: numpy in /usr/local/lib/python3.7/dist-packages (from torchvision==0.10.0+cpu) (1.21.6)\n",
            "Requirement already satisfied: pillow>=5.3.0 in /usr/local/lib/python3.7/dist-packages (from torchvision==0.10.0+cpu) (7.1.2)\n"
          ]
        }
      ]
    },
    {
      "cell_type": "code",
      "source": [
        "import torch\n",
        "import torch.nn as nn\n",
        "import torch.utils.data as td\n",
        "\n",
        "test_sample = torch.rand(5, 3)\n",
        "print(x)"
      ],
      "metadata": {
        "colab": {
          "base_uri": "https://localhost:8080/"
        },
        "id": "w6vkIvm5985F",
        "outputId": "1bea346d-033b-41de-ecc4-0ca59569d96e"
      },
      "execution_count": 67,
      "outputs": [
        {
          "output_type": "stream",
          "name": "stdout",
          "text": [
            "tensor([[  52.2000,   18.8000,  197.0000, 3450.0000]])\n"
          ]
        }
      ]
    },
    {
      "cell_type": "markdown",
      "source": [
        "## We need to convert numpy array to Pytorch Tensor objects.\n",
        "\n",
        "**TORCH.TENSOR**  \n",
        "A **torch.Tensor** is a multi-dimensional matrix containing elements of a single data type.[link](https://pytorch.org/docs/stable/tensors.html)\n",
        "\n",
        "\n"
      ],
      "metadata": {
        "id": "aoDubFD2FOHW"
      }
    },
    {
      "cell_type": "code",
      "source": [
        "# Create a dataset and loader for the training data and labels\n",
        "\n",
        "# Converted the training data\n",
        "train_x = torch.Tensor(x_train).float() # Features\n",
        "train_y = torch.Tensor(y_train).long() # Label\n",
        "# Tensor Dataset\n",
        "train_ds = td.TensorDataset(train_x,train_y)\n",
        "# Tensor DataLoader\n",
        "train_loader = td.DataLoader(train_ds, batch_size=20,\n",
        "    shuffle=False, num_workers=1)\n",
        "\n",
        "# Create a dataset and loader for the test data and labels\n",
        "# Converted\n",
        "test_x = torch.Tensor(x_test).float()\n",
        "test_y = torch.Tensor(y_test).long()\n",
        "# Tensor Dataset\n",
        "test_ds = td.TensorDataset(test_x,test_y)\n",
        "# Tensor DataLoader\n",
        "test_loader = td.DataLoader(test_ds, batch_size=20,\n",
        "    shuffle=False, num_workers=1)\n",
        "\n",
        "print('Ready to load data')"
      ],
      "metadata": {
        "colab": {
          "base_uri": "https://localhost:8080/"
        },
        "id": "vO6M6PDdF_yf",
        "outputId": "cf7eeecb-9366-4e3f-b24d-99bb83f6d1e7"
      },
      "execution_count": 68,
      "outputs": [
        {
          "output_type": "stream",
          "name": "stdout",
          "text": [
            "Ready to load data\n"
          ]
        }
      ]
    },
    {
      "cell_type": "markdown",
      "source": [
        "A Basic Concept of deep neural network model:\n",
        "\n",
        "The deep neural network model for the classifier consists of multiple layers of artificial neurons.\n",
        "\n",
        "* An input layer with a neuron for each expected input for each feature (in this case, the four penguin measurements) \n",
        "* Hidden layers, each containing X(self-define) neurons. In this case we use 10 neurons. (user can create multi hidden layers)\n",
        "* An output layer containing X neurons - one for each classification probability (y) value to be predicted by the model.\n",
        "\n",
        "[ReLU activation function](https://www.mygreatlearning.com/blog/relu-activation-function/)\n",
        "\n"
      ],
      "metadata": {
        "id": "TkT6mB02OmgZ"
      }
    },
    {
      "cell_type": "code",
      "source": [
        "# Number of hidden layer nodes\n",
        "hl = 10\n",
        "\n",
        "# Define the neural network, here we make 3 fully-connected layers:\n",
        "class PenguinClass(nn.Module):\n",
        "    def __init__(self):\n",
        "        super(PenguinClass, self).__init__()\n",
        "        self.fc1 = nn.Linear(len(features), hl) # Input Layer: from 4 features to 10 nodes\n",
        "        self.fc2 = nn.Linear(hl, hl) # Hidden Layer with 10 nodes\n",
        "        self.fc3 = nn.Linear(hl, len(penguin_classes)) # Output Layer: from 10 nodes to 3 classes\n",
        "\n",
        "    def forward(self, x):\n",
        "        x = torch.relu(self.fc1(x))\n",
        "        x = torch.relu(self.fc2(x))\n",
        "        x = torch.relu(self.fc3(x))\n",
        "        return x\n",
        "\n",
        "# Create a model instance from the network\n",
        "model = PenguinClass()\n",
        "print(model)"
      ],
      "metadata": {
        "colab": {
          "base_uri": "https://localhost:8080/"
        },
        "id": "l_CMkmO5STAU",
        "outputId": "e215bd92-a8ea-4516-da21-e672c7915120"
      },
      "execution_count": 69,
      "outputs": [
        {
          "output_type": "stream",
          "name": "stdout",
          "text": [
            "PenguinClass(\n",
            "  (fc1): Linear(in_features=4, out_features=10, bias=True)\n",
            "  (fc2): Linear(in_features=10, out_features=10, bias=True)\n",
            "  (fc3): Linear(in_features=10, out_features=3, bias=True)\n",
            ")\n"
          ]
        }
      ]
    },
    {
      "cell_type": "markdown",
      "source": [
        "***f{ x, w, b}***  \n",
        "Associated with each x value is a weight (w), which is used to strengthen or weaken the effect of the x value to simulate learning. Additionally, a bias (b) input is added to enable fine-grained control over the network. During the training process, the w and b values will be adjusted to tune the network so that it \"learns\" to produce correct outputs."
      ],
      "metadata": {
        "id": "QnaURxyFa8V9"
      }
    },
    {
      "cell_type": "code",
      "source": [
        "def train(model, data_loader, optimizer):\n",
        "    # Set the model to training mode\n",
        "    model.train()\n",
        "    train_loss = 0\n",
        "    \n",
        "    for batch, tensor in enumerate(data_loader):\n",
        "        data, target = tensor\n",
        "        #feedforward\n",
        "        optimizer.zero_grad()\n",
        "        out = model(data)\n",
        "        loss = loss_criteria(out, target)\n",
        "        train_loss += loss.item()\n",
        "\n",
        "        # backpropagate\n",
        "        loss.backward()\n",
        "        optimizer.step()\n",
        "\n",
        "    #Return average loss\n",
        "    avg_loss = train_loss / (batch+1)\n",
        "    print('Training set: Average loss: {:.6f}'.format(avg_loss))\n",
        "    return avg_loss\n",
        "           \n",
        "            \n",
        "def test(model, data_loader):\n",
        "    # Switch the model to evaluation mode (so we don't backpropagate)\n",
        "    model.eval()\n",
        "    test_loss = 0\n",
        "    correct = 0\n",
        "\n",
        "    with torch.no_grad():\n",
        "        batch_count = 0\n",
        "        for batch, tensor in enumerate(data_loader):\n",
        "            batch_count += 1\n",
        "            data, target = tensor\n",
        "            # Get the predictions\n",
        "            out = model(data)\n",
        "\n",
        "            # calculate the loss\n",
        "            test_loss += loss_criteria(out, target).item()\n",
        "\n",
        "            # Calculate the accuracy\n",
        "            _, predicted = torch.max(out.data, 1)\n",
        "            correct += torch.sum(target==predicted).item()\n",
        "            \n",
        "    # Calculate the average loss and total accuracy for this epoch\n",
        "    avg_loss = test_loss/batch_count\n",
        "    print('Validation set: Average loss: {:.6f}, Accuracy: {}/{} ({:.0f}%)\\n'.format(\n",
        "        avg_loss, correct, len(data_loader.dataset),\n",
        "        100. * correct / len(data_loader.dataset)))\n",
        "    \n",
        "    # return average loss for the epoch\n",
        "    return avg_loss\n",
        "\n",
        "# Specify the loss criteria (we'll use CrossEntropyLoss for multi-class classification)\n",
        "loss_criteria = nn.CrossEntropyLoss()\n",
        "\n",
        "# Use an \"Adam\" optimizer to adjust weights\n",
        "# (see https://pytorch.org/docs/stable/optim.html#algorithms for details of supported algorithms)\n",
        "learning_rate = 0.001\n",
        "optimizer = torch.optim.Adam(model.parameters(), lr=learning_rate)\n",
        "optimizer.zero_grad()\n",
        "\n",
        "# We'll track metrics for each epoch in these arrays\n",
        "epoch_nums = []\n",
        "training_loss = []\n",
        "validation_loss = []\n",
        "\n",
        "# Train over 50 epochs\n",
        "epochs = 50\n",
        "for epoch in range(1, epochs + 1):\n",
        "\n",
        "    # print the epoch number\n",
        "    print('Epoch: {}'.format(epoch))\n",
        "    \n",
        "    # Feed training data into the model to optimize the weights\n",
        "    train_loss = train(model, train_loader, optimizer)\n",
        "    \n",
        "    # Feed the test data into the model to check its performance\n",
        "    test_loss = test(model, test_loader)\n",
        "    \n",
        "    # Log the metrics for this epoch\n",
        "    epoch_nums.append(epoch)\n",
        "    training_loss.append(train_loss)\n",
        "    validation_loss.append(test_loss)"
      ],
      "metadata": {
        "colab": {
          "base_uri": "https://localhost:8080/"
        },
        "id": "2qT2uYQ3b5xq",
        "outputId": "40f834d6-cf7a-43b0-c872-31067bf535c2"
      },
      "execution_count": 70,
      "outputs": [
        {
          "output_type": "stream",
          "name": "stdout",
          "text": [
            "Epoch: 1\n",
            "Training set: Average loss: 0.911789\n",
            "Validation set: Average loss: 0.811156, Accuracy: 1007/1642 (61%)\n",
            "\n",
            "Epoch: 2\n",
            "Training set: Average loss: 0.807213\n",
            "Validation set: Average loss: 0.754013, Accuracy: 1157/1642 (70%)\n",
            "\n",
            "Epoch: 3\n",
            "Training set: Average loss: 0.770882\n",
            "Validation set: Average loss: 0.726945, Accuracy: 1230/1642 (75%)\n",
            "\n",
            "Epoch: 4\n",
            "Training set: Average loss: 0.728730\n",
            "Validation set: Average loss: 0.669720, Accuracy: 1131/1642 (69%)\n",
            "\n",
            "Epoch: 5\n",
            "Training set: Average loss: 0.690372\n",
            "Validation set: Average loss: 0.637571, Accuracy: 1245/1642 (76%)\n",
            "\n",
            "Epoch: 6\n",
            "Training set: Average loss: 0.656844\n",
            "Validation set: Average loss: 0.604288, Accuracy: 1333/1642 (81%)\n",
            "\n",
            "Epoch: 7\n",
            "Training set: Average loss: 0.622225\n",
            "Validation set: Average loss: 0.572664, Accuracy: 1400/1642 (85%)\n",
            "\n",
            "Epoch: 8\n",
            "Training set: Average loss: 0.591374\n",
            "Validation set: Average loss: 0.547215, Accuracy: 1484/1642 (90%)\n",
            "\n",
            "Epoch: 9\n",
            "Training set: Average loss: 0.567135\n",
            "Validation set: Average loss: 0.528795, Accuracy: 1545/1642 (94%)\n",
            "\n",
            "Epoch: 10\n",
            "Training set: Average loss: 0.552229\n",
            "Validation set: Average loss: 0.516831, Accuracy: 1555/1642 (95%)\n",
            "\n",
            "Epoch: 11\n",
            "Training set: Average loss: 0.541993\n",
            "Validation set: Average loss: 0.510332, Accuracy: 1560/1642 (95%)\n",
            "\n",
            "Epoch: 12\n",
            "Training set: Average loss: 0.535532\n",
            "Validation set: Average loss: 0.505128, Accuracy: 1569/1642 (96%)\n",
            "\n",
            "Epoch: 13\n",
            "Training set: Average loss: 0.530587\n",
            "Validation set: Average loss: 0.500290, Accuracy: 1573/1642 (96%)\n",
            "\n",
            "Epoch: 14\n",
            "Training set: Average loss: 0.526602\n",
            "Validation set: Average loss: 0.497549, Accuracy: 1592/1642 (97%)\n",
            "\n",
            "Epoch: 15\n",
            "Training set: Average loss: 0.523406\n",
            "Validation set: Average loss: 0.494794, Accuracy: 1603/1642 (98%)\n",
            "\n",
            "Epoch: 16\n",
            "Training set: Average loss: 0.521002\n",
            "Validation set: Average loss: 0.492835, Accuracy: 1607/1642 (98%)\n",
            "\n",
            "Epoch: 17\n",
            "Training set: Average loss: 0.518759\n",
            "Validation set: Average loss: 0.489979, Accuracy: 1607/1642 (98%)\n",
            "\n",
            "Epoch: 18\n",
            "Training set: Average loss: 0.516878\n",
            "Validation set: Average loss: 0.488697, Accuracy: 1607/1642 (98%)\n",
            "\n",
            "Epoch: 19\n",
            "Training set: Average loss: 0.515472\n",
            "Validation set: Average loss: 0.487505, Accuracy: 1607/1642 (98%)\n",
            "\n",
            "Epoch: 20\n",
            "Training set: Average loss: 0.514465\n",
            "Validation set: Average loss: 0.486336, Accuracy: 1607/1642 (98%)\n",
            "\n",
            "Epoch: 21\n",
            "Training set: Average loss: 0.513526\n",
            "Validation set: Average loss: 0.485336, Accuracy: 1607/1642 (98%)\n",
            "\n",
            "Epoch: 22\n",
            "Training set: Average loss: 0.512740\n",
            "Validation set: Average loss: 0.484195, Accuracy: 1607/1642 (98%)\n",
            "\n",
            "Epoch: 23\n",
            "Training set: Average loss: 0.512151\n",
            "Validation set: Average loss: 0.483604, Accuracy: 1607/1642 (98%)\n",
            "\n",
            "Epoch: 24\n",
            "Training set: Average loss: 0.511355\n",
            "Validation set: Average loss: 0.482724, Accuracy: 1607/1642 (98%)\n",
            "\n",
            "Epoch: 25\n",
            "Training set: Average loss: 0.510696\n",
            "Validation set: Average loss: 0.482011, Accuracy: 1610/1642 (98%)\n",
            "\n",
            "Epoch: 26\n",
            "Training set: Average loss: 0.510561\n",
            "Validation set: Average loss: 0.481565, Accuracy: 1610/1642 (98%)\n",
            "\n",
            "Epoch: 27\n",
            "Training set: Average loss: 0.509895\n",
            "Validation set: Average loss: 0.481103, Accuracy: 1610/1642 (98%)\n",
            "\n",
            "Epoch: 28\n",
            "Training set: Average loss: 0.509573\n",
            "Validation set: Average loss: 0.480664, Accuracy: 1607/1642 (98%)\n",
            "\n",
            "Epoch: 29\n",
            "Training set: Average loss: 0.508996\n",
            "Validation set: Average loss: 0.480236, Accuracy: 1610/1642 (98%)\n",
            "\n",
            "Epoch: 30\n",
            "Training set: Average loss: 0.508617\n",
            "Validation set: Average loss: 0.479804, Accuracy: 1610/1642 (98%)\n",
            "\n",
            "Epoch: 31\n",
            "Training set: Average loss: 0.508341\n",
            "Validation set: Average loss: 0.479413, Accuracy: 1610/1642 (98%)\n",
            "\n",
            "Epoch: 32\n",
            "Training set: Average loss: 0.508002\n",
            "Validation set: Average loss: 0.479039, Accuracy: 1610/1642 (98%)\n",
            "\n",
            "Epoch: 33\n",
            "Training set: Average loss: 0.507436\n",
            "Validation set: Average loss: 0.478876, Accuracy: 1610/1642 (98%)\n",
            "\n",
            "Epoch: 34\n",
            "Training set: Average loss: 0.507190\n",
            "Validation set: Average loss: 0.478525, Accuracy: 1610/1642 (98%)\n",
            "\n",
            "Epoch: 35\n",
            "Training set: Average loss: 0.506900\n",
            "Validation set: Average loss: 0.478184, Accuracy: 1610/1642 (98%)\n",
            "\n",
            "Epoch: 36\n",
            "Training set: Average loss: 0.506557\n",
            "Validation set: Average loss: 0.477833, Accuracy: 1610/1642 (98%)\n",
            "\n",
            "Epoch: 37\n",
            "Training set: Average loss: 0.506816\n",
            "Validation set: Average loss: 0.477565, Accuracy: 1610/1642 (98%)\n",
            "\n",
            "Epoch: 38\n",
            "Training set: Average loss: 0.506517\n",
            "Validation set: Average loss: 0.477248, Accuracy: 1610/1642 (98%)\n",
            "\n",
            "Epoch: 39\n",
            "Training set: Average loss: 0.506194\n",
            "Validation set: Average loss: 0.477082, Accuracy: 1610/1642 (98%)\n",
            "\n",
            "Epoch: 40\n",
            "Training set: Average loss: 0.505532\n",
            "Validation set: Average loss: 0.476491, Accuracy: 1610/1642 (98%)\n",
            "\n",
            "Epoch: 41\n",
            "Training set: Average loss: 0.505934\n",
            "Validation set: Average loss: 0.476207, Accuracy: 1610/1642 (98%)\n",
            "\n",
            "Epoch: 42\n",
            "Training set: Average loss: 0.505376\n",
            "Validation set: Average loss: 0.475964, Accuracy: 1610/1642 (98%)\n",
            "\n",
            "Epoch: 43\n",
            "Training set: Average loss: 0.505402\n",
            "Validation set: Average loss: 0.475709, Accuracy: 1610/1642 (98%)\n",
            "\n",
            "Epoch: 44\n",
            "Training set: Average loss: 0.504790\n",
            "Validation set: Average loss: 0.476134, Accuracy: 1615/1642 (98%)\n",
            "\n",
            "Epoch: 45\n",
            "Training set: Average loss: 0.504455\n",
            "Validation set: Average loss: 0.475953, Accuracy: 1615/1642 (98%)\n",
            "\n",
            "Epoch: 46\n",
            "Training set: Average loss: 0.504688\n",
            "Validation set: Average loss: 0.475761, Accuracy: 1622/1642 (99%)\n",
            "\n",
            "Epoch: 47\n",
            "Training set: Average loss: 0.504735\n",
            "Validation set: Average loss: 0.474807, Accuracy: 1615/1642 (98%)\n",
            "\n",
            "Epoch: 48\n",
            "Training set: Average loss: 0.504441\n",
            "Validation set: Average loss: 0.474618, Accuracy: 1615/1642 (98%)\n",
            "\n",
            "Epoch: 49\n",
            "Training set: Average loss: 0.504042\n",
            "Validation set: Average loss: 0.474441, Accuracy: 1615/1642 (98%)\n",
            "\n",
            "Epoch: 50\n",
            "Training set: Average loss: 0.503988\n",
            "Validation set: Average loss: 0.474484, Accuracy: 1622/1642 (99%)\n",
            "\n"
          ]
        }
      ]
    },
    {
      "cell_type": "code",
      "source": [
        "%matplotlib inline\n",
        "from matplotlib import pyplot as plt\n",
        "\n",
        "plt.plot(epoch_nums, training_loss)\n",
        "plt.plot(epoch_nums, validation_loss)\n",
        "plt.xlabel('epoch')\n",
        "plt.ylabel('loss')\n",
        "plt.legend(['training', 'validation'], loc='upper right')\n",
        "plt.show()"
      ],
      "metadata": {
        "colab": {
          "base_uri": "https://localhost:8080/",
          "height": 279
        },
        "id": "C8xhvtlAfjne",
        "outputId": "cfd3c681-d424-4f26-db9f-c27fbb179dff"
      },
      "execution_count": 71,
      "outputs": [
        {
          "output_type": "display_data",
          "data": {
            "text/plain": [
              "<Figure size 432x288 with 1 Axes>"
            ],
            "image/png": "[encoded data removed]"
          },
          "metadata": {
            "needs_background": "light"
          }
        }
      ]
    },
    {
      "cell_type": "code",
      "source": [
        "#Pytorch doesn't have a built-in confusion matrix metric, so we'll use SciKit-Learn\n",
        "from sklearn.metrics import confusion_matrix\n",
        "import numpy as np\n",
        "\n",
        "# Set the model to evaluate mode\n",
        "model.eval()\n",
        "\n",
        "# Get predictions for the test data\n",
        "x = torch.Tensor(x_test).float()\n",
        "_, predicted = torch.max(model(x).data, 1)\n",
        "\n",
        "# Plot the confusion matrix\n",
        "cm = confusion_matrix(y_test, predicted.numpy())\n",
        "plt.imshow(cm, interpolation=\"nearest\", cmap=plt.cm.Blues)\n",
        "plt.colorbar()\n",
        "tick_marks = np.arange(len(penguin_classes))\n",
        "plt.xticks(tick_marks, penguin_classes, rotation=45)\n",
        "plt.yticks(tick_marks, penguin_classes)\n",
        "plt.xlabel(\"Predicted Species\")\n",
        "plt.ylabel(\"Actual Species\")\n",
        "plt.show()"
      ],
      "metadata": {
        "colab": {
          "base_uri": "https://localhost:8080/",
          "height": 310
        },
        "id": "sEZkOAmfftsm",
        "outputId": "15f2a38e-e9e1-4fb4-95b3-54529d58ad4a"
      },
      "execution_count": 72,
      "outputs": [
        {
          "output_type": "display_data",
          "data": {
            "text/plain": [
              "<Figure size 432x288 with 2 Axes>"
            ],
            "image/png": "[encoded data removed]"
          },
          "metadata": {
            "needs_background": "light"
          }
        }
      ]
    },
    {
      "cell_type": "code",
      "source": [
        "model.eval()\n",
        "# New penguin features\n",
        "x_new = [[50.4,15.3,20,50]]\n",
        "X_new_2 = [[52.2,18.8,197,3450]]\n",
        "\n",
        "# Get a prediction for the new data sample\n",
        "x = torch.Tensor(X_new_2).float()\n",
        "_, predicted = torch.max(model(x).data, 1)\n",
        "\n",
        "print('Prediction:',penguin_classes[predicted.item()])"
      ],
      "metadata": {
        "colab": {
          "base_uri": "https://localhost:8080/"
        },
        "id": "NPCMZznUf5RO",
        "outputId": "0d2feb97-f80b-4d3b-f51a-064dd809aa05"
      },
      "execution_count": 73,
      "outputs": [
        {
          "output_type": "stream",
          "name": "stdout",
          "text": [
            "Prediction: Gentoo\n"
          ]
        }
      ]
    },
    {
      "cell_type": "code",
      "source": [
        ""
      ],
      "metadata": {
        "id": "Z5cZTL19jx_K"
      },
      "execution_count": 73,
      "outputs": []
    }
  ]
}