{
 "cells": [
  {
   "cell_type": "markdown",
   "id": "2dbbf763",
   "metadata": {},
   "source": [
    "# [practice] Microsoft ML course challenge 01\n",
    "## Flights Data Exploration Challenge"
   ]
  },
  {
   "cell_type": "markdown",
   "id": "fef17ee5",
   "metadata": {},
   "source": [
    "Import File from URL and view the data."
   ]
  },
  {
   "cell_type": "code",
   "execution_count": 1,
   "id": "ae45a18f",
   "metadata": {},
   "outputs": [
    {
     "data": {
      "text/html": [
       "<div>\n",
       "<style scoped>\n",
       "    .dataframe tbody tr th:only-of-type {\n",
       "        vertical-align: middle;\n",
       "    }\n",
       "\n",
       "    .dataframe tbody tr th {\n",
       "        vertical-align: top;\n",
       "    }\n",
       "\n",
       "    .dataframe thead th {\n",
       "        text-align: right;\n",
       "    }\n",
       "</style>\n",
       "<table border=\"1\" class=\"dataframe\">\n",
       "  <thead>\n",
       "    <tr style=\"text-align: right;\">\n",
       "      <th></th>\n",
       "      <th>Year</th>\n",
       "      <th>Month</th>\n",
       "      <th>DayofMonth</th>\n",
       "      <th>DayOfWeek</th>\n",
       "      <th>Carrier</th>\n",
       "      <th>OriginAirportID</th>\n",
       "      <th>OriginAirportName</th>\n",
       "      <th>OriginCity</th>\n",
       "      <th>OriginState</th>\n",
       "      <th>DestAirportID</th>\n",
       "      <th>DestAirportName</th>\n",
       "      <th>DestCity</th>\n",
       "      <th>DestState</th>\n",
       "      <th>CRSDepTime</th>\n",
       "      <th>DepDelay</th>\n",
       "      <th>DepDel15</th>\n",
       "      <th>CRSArrTime</th>\n",
       "      <th>ArrDelay</th>\n",
       "      <th>ArrDel15</th>\n",
       "      <th>Cancelled</th>\n",
       "    </tr>\n",
       "  </thead>\n",
       "  <tbody>\n",
       "    <tr>\n",
       "      <th>0</th>\n",
       "      <td>2013</td>\n",
       "      <td>9</td>\n",
       "      <td>16</td>\n",
       "      <td>1</td>\n",
       "      <td>DL</td>\n",
       "      <td>15304</td>\n",
       "      <td>Tampa International</td>\n",
       "      <td>Tampa</td>\n",
       "      <td>FL</td>\n",
       "      <td>12478</td>\n",
       "      <td>John F. Kennedy International</td>\n",
       "      <td>New York</td>\n",
       "      <td>NY</td>\n",
       "      <td>1539</td>\n",
       "      <td>4</td>\n",
       "      <td>0.0</td>\n",
       "      <td>1824</td>\n",
       "      <td>13</td>\n",
       "      <td>0</td>\n",
       "      <td>0</td>\n",
       "    </tr>\n",
       "    <tr>\n",
       "      <th>1</th>\n",
       "      <td>2013</td>\n",
       "      <td>9</td>\n",
       "      <td>23</td>\n",
       "      <td>1</td>\n",
       "      <td>WN</td>\n",
       "      <td>14122</td>\n",
       "      <td>Pittsburgh International</td>\n",
       "      <td>Pittsburgh</td>\n",
       "      <td>PA</td>\n",
       "      <td>13232</td>\n",
       "      <td>Chicago Midway International</td>\n",
       "      <td>Chicago</td>\n",
       "      <td>IL</td>\n",
       "      <td>710</td>\n",
       "      <td>3</td>\n",
       "      <td>0.0</td>\n",
       "      <td>740</td>\n",
       "      <td>22</td>\n",
       "      <td>1</td>\n",
       "      <td>0</td>\n",
       "    </tr>\n",
       "    <tr>\n",
       "      <th>2</th>\n",
       "      <td>2013</td>\n",
       "      <td>9</td>\n",
       "      <td>7</td>\n",
       "      <td>6</td>\n",
       "      <td>AS</td>\n",
       "      <td>14747</td>\n",
       "      <td>Seattle/Tacoma International</td>\n",
       "      <td>Seattle</td>\n",
       "      <td>WA</td>\n",
       "      <td>11278</td>\n",
       "      <td>Ronald Reagan Washington National</td>\n",
       "      <td>Washington</td>\n",
       "      <td>DC</td>\n",
       "      <td>810</td>\n",
       "      <td>-3</td>\n",
       "      <td>0.0</td>\n",
       "      <td>1614</td>\n",
       "      <td>-7</td>\n",
       "      <td>0</td>\n",
       "      <td>0</td>\n",
       "    </tr>\n",
       "    <tr>\n",
       "      <th>3</th>\n",
       "      <td>2013</td>\n",
       "      <td>7</td>\n",
       "      <td>22</td>\n",
       "      <td>1</td>\n",
       "      <td>OO</td>\n",
       "      <td>13930</td>\n",
       "      <td>Chicago O'Hare International</td>\n",
       "      <td>Chicago</td>\n",
       "      <td>IL</td>\n",
       "      <td>11042</td>\n",
       "      <td>Cleveland-Hopkins International</td>\n",
       "      <td>Cleveland</td>\n",
       "      <td>OH</td>\n",
       "      <td>804</td>\n",
       "      <td>35</td>\n",
       "      <td>1.0</td>\n",
       "      <td>1027</td>\n",
       "      <td>33</td>\n",
       "      <td>1</td>\n",
       "      <td>0</td>\n",
       "    </tr>\n",
       "    <tr>\n",
       "      <th>4</th>\n",
       "      <td>2013</td>\n",
       "      <td>5</td>\n",
       "      <td>16</td>\n",
       "      <td>4</td>\n",
       "      <td>DL</td>\n",
       "      <td>13931</td>\n",
       "      <td>Norfolk International</td>\n",
       "      <td>Norfolk</td>\n",
       "      <td>VA</td>\n",
       "      <td>10397</td>\n",
       "      <td>Hartsfield-Jackson Atlanta International</td>\n",
       "      <td>Atlanta</td>\n",
       "      <td>GA</td>\n",
       "      <td>545</td>\n",
       "      <td>-1</td>\n",
       "      <td>0.0</td>\n",
       "      <td>728</td>\n",
       "      <td>-9</td>\n",
       "      <td>0</td>\n",
       "      <td>0</td>\n",
       "    </tr>\n",
       "  </tbody>\n",
       "</table>\n",
       "</div>"
      ],
      "text/plain": [
       "   Year  Month  DayofMonth  DayOfWeek Carrier  OriginAirportID  \\\n",
       "0  2013      9          16          1      DL            15304   \n",
       "1  2013      9          23          1      WN            14122   \n",
       "2  2013      9           7          6      AS            14747   \n",
       "3  2013      7          22          1      OO            13930   \n",
       "4  2013      5          16          4      DL            13931   \n",
       "\n",
       "              OriginAirportName  OriginCity OriginState  DestAirportID  \\\n",
       "0           Tampa International       Tampa          FL          12478   \n",
       "1      Pittsburgh International  Pittsburgh          PA          13232   \n",
       "2  Seattle/Tacoma International     Seattle          WA          11278   \n",
       "3  Chicago O'Hare International     Chicago          IL          11042   \n",
       "4         Norfolk International     Norfolk          VA          10397   \n",
       "\n",
       "                            DestAirportName    DestCity DestState  CRSDepTime  \\\n",
       "0             John F. Kennedy International    New York        NY        1539   \n",
       "1              Chicago Midway International     Chicago        IL         710   \n",
       "2         Ronald Reagan Washington National  Washington        DC         810   \n",
       "3           Cleveland-Hopkins International   Cleveland        OH         804   \n",
       "4  Hartsfield-Jackson Atlanta International     Atlanta        GA         545   \n",
       "\n",
       "   DepDelay  DepDel15  CRSArrTime  ArrDelay  ArrDel15  Cancelled  \n",
       "0         4       0.0        1824        13         0          0  \n",
       "1         3       0.0         740        22         1          0  \n",
       "2        -3       0.0        1614        -7         0          0  \n",
       "3        35       1.0        1027        33         1          0  \n",
       "4        -1       0.0         728        -9         0          0  "
      ]
     },
     "execution_count": 1,
     "metadata": {},
     "output_type": "execute_result"
    }
   ],
   "source": [
    "import pandas as pd\n",
    "\n",
    "url = \"https://raw.githubusercontent.com/MicrosoftDocs/ml-basics/master/challenges/data/flights.csv\"\n",
    "df_flight = pd.read_csv(url, sep = ',', header='infer')\n",
    "df_flight.head()"
   ]
  },
  {
   "cell_type": "markdown",
   "id": "24679e81",
   "metadata": {},
   "source": [
    "## 1.Clean missing values"
   ]
  },
  {
   "cell_type": "markdown",
   "id": "ca2d7f0a",
   "metadata": {},
   "source": [
    "Find how many null values in each column.  \n",
    "Use **sum()**  because isnull() will return Boolean value.  \n",
    "Sum() will sum the 1 and 0. **count()** will just count number of rows.  "
   ]
  },
  {
   "cell_type": "code",
   "execution_count": 2,
   "id": "a6693514",
   "metadata": {},
   "outputs": [
    {
     "data": {
      "text/plain": [
       "Year                    0\n",
       "Month                   0\n",
       "DayofMonth              0\n",
       "DayOfWeek               0\n",
       "Carrier                 0\n",
       "OriginAirportID         0\n",
       "OriginAirportName       0\n",
       "OriginCity              0\n",
       "OriginState             0\n",
       "DestAirportID           0\n",
       "DestAirportName         0\n",
       "DestCity                0\n",
       "DestState               0\n",
       "CRSDepTime              0\n",
       "DepDelay                0\n",
       "DepDel15             2761\n",
       "CRSArrTime              0\n",
       "ArrDelay                0\n",
       "ArrDel15                0\n",
       "Cancelled               0\n",
       "dtype: int64"
      ]
     },
     "execution_count": 2,
     "metadata": {},
     "output_type": "execute_result"
    }
   ],
   "source": [
    "df_flight.isnull().sum()"
   ]
  },
  {
   "cell_type": "markdown",
   "id": "7e735ed5",
   "metadata": {},
   "source": [
    "\n",
    "DepDel15 column refers to the DepDelay column.  \n",
    "Departures are considered late if the delay time is 15 minutes or more:   \n",
    "  DepDelay >= 15 then DepDel15 == True  \n",
    "  \n",
    "axis(1) vertical search."
   ]
  },
  {
   "cell_type": "code",
   "execution_count": 3,
   "id": "927d9885",
   "metadata": {},
   "outputs": [
    {
     "data": {
      "text/html": [
       "<div>\n",
       "<style scoped>\n",
       "    .dataframe tbody tr th:only-of-type {\n",
       "        vertical-align: middle;\n",
       "    }\n",
       "\n",
       "    .dataframe tbody tr th {\n",
       "        vertical-align: top;\n",
       "    }\n",
       "\n",
       "    .dataframe thead th {\n",
       "        text-align: right;\n",
       "    }\n",
       "</style>\n",
       "<table border=\"1\" class=\"dataframe\">\n",
       "  <thead>\n",
       "    <tr style=\"text-align: right;\">\n",
       "      <th></th>\n",
       "      <th>DepDelay</th>\n",
       "      <th>DepDel15</th>\n",
       "    </tr>\n",
       "  </thead>\n",
       "  <tbody>\n",
       "    <tr>\n",
       "      <th>171</th>\n",
       "      <td>0</td>\n",
       "      <td>NaN</td>\n",
       "    </tr>\n",
       "    <tr>\n",
       "      <th>359</th>\n",
       "      <td>0</td>\n",
       "      <td>NaN</td>\n",
       "    </tr>\n",
       "    <tr>\n",
       "      <th>429</th>\n",
       "      <td>0</td>\n",
       "      <td>NaN</td>\n",
       "    </tr>\n",
       "    <tr>\n",
       "      <th>545</th>\n",
       "      <td>0</td>\n",
       "      <td>NaN</td>\n",
       "    </tr>\n",
       "    <tr>\n",
       "      <th>554</th>\n",
       "      <td>0</td>\n",
       "      <td>NaN</td>\n",
       "    </tr>\n",
       "    <tr>\n",
       "      <th>...</th>\n",
       "      <td>...</td>\n",
       "      <td>...</td>\n",
       "    </tr>\n",
       "    <tr>\n",
       "      <th>271410</th>\n",
       "      <td>0</td>\n",
       "      <td>NaN</td>\n",
       "    </tr>\n",
       "    <tr>\n",
       "      <th>271607</th>\n",
       "      <td>0</td>\n",
       "      <td>NaN</td>\n",
       "    </tr>\n",
       "    <tr>\n",
       "      <th>271634</th>\n",
       "      <td>0</td>\n",
       "      <td>NaN</td>\n",
       "    </tr>\n",
       "    <tr>\n",
       "      <th>271671</th>\n",
       "      <td>0</td>\n",
       "      <td>NaN</td>\n",
       "    </tr>\n",
       "    <tr>\n",
       "      <th>271885</th>\n",
       "      <td>0</td>\n",
       "      <td>NaN</td>\n",
       "    </tr>\n",
       "  </tbody>\n",
       "</table>\n",
       "<p>2761 rows × 2 columns</p>\n",
       "</div>"
      ],
      "text/plain": [
       "        DepDelay  DepDel15\n",
       "171            0       NaN\n",
       "359            0       NaN\n",
       "429            0       NaN\n",
       "545            0       NaN\n",
       "554            0       NaN\n",
       "...          ...       ...\n",
       "271410         0       NaN\n",
       "271607         0       NaN\n",
       "271634         0       NaN\n",
       "271671         0       NaN\n",
       "271885         0       NaN\n",
       "\n",
       "[2761 rows x 2 columns]"
      ]
     },
     "execution_count": 3,
     "metadata": {},
     "output_type": "execute_result"
    }
   ],
   "source": [
    "df_flight[df_flight.isnull().any(axis = 1)][['DepDelay','DepDel15']]"
   ]
  },
  {
   "cell_type": "markdown",
   "id": "a997c82f",
   "metadata": {},
   "source": [
    "Double-check if the DepDelay column is really not show delayed."
   ]
  },
  {
   "cell_type": "code",
   "execution_count": 4,
   "id": "175839a8",
   "metadata": {},
   "outputs": [
    {
     "data": {
      "text/plain": [
       "count    2761.0\n",
       "mean        0.0\n",
       "std         0.0\n",
       "min         0.0\n",
       "25%         0.0\n",
       "50%         0.0\n",
       "75%         0.0\n",
       "max         0.0\n",
       "Name: DepDelay, dtype: float64"
      ]
     },
     "execution_count": 4,
     "metadata": {},
     "output_type": "execute_result"
    }
   ],
   "source": [
    "df_flight[df_flight.isnull().any(axis = 1)].DepDelay.describe()"
   ]
  },
  {
   "cell_type": "markdown",
   "id": "299883db",
   "metadata": {},
   "source": [
    "Let's replace the missing DepDel15 indicator with a 0 and confirm there are no more missing values."
   ]
  },
  {
   "cell_type": "code",
   "execution_count": 5,
   "id": "1b58ae60",
   "metadata": {},
   "outputs": [
    {
     "data": {
      "text/plain": [
       "Year                 0\n",
       "Month                0\n",
       "DayofMonth           0\n",
       "DayOfWeek            0\n",
       "Carrier              0\n",
       "OriginAirportID      0\n",
       "OriginAirportName    0\n",
       "OriginCity           0\n",
       "OriginState          0\n",
       "DestAirportID        0\n",
       "DestAirportName      0\n",
       "DestCity             0\n",
       "DestState            0\n",
       "CRSDepTime           0\n",
       "DepDelay             0\n",
       "DepDel15             0\n",
       "CRSArrTime           0\n",
       "ArrDelay             0\n",
       "ArrDel15             0\n",
       "Cancelled            0\n",
       "dtype: int64"
      ]
     },
     "execution_count": 5,
     "metadata": {},
     "output_type": "execute_result"
    }
   ],
   "source": [
    "df_flight.DepDel15 = df_flight.DepDel15.fillna(0)\n",
    "df_flight.isnull().sum()"
   ]
  },
  {
   "cell_type": "markdown",
   "id": "c57f5fe3",
   "metadata": {},
   "source": [
    "Just curious, how many flights are delayed at the departure but not at the destination."
   ]
  },
  {
   "cell_type": "code",
   "execution_count": 6,
   "id": "c695b86d",
   "metadata": {},
   "outputs": [
    {
     "data": {
      "text/html": [
       "<div>\n",
       "<style scoped>\n",
       "    .dataframe tbody tr th:only-of-type {\n",
       "        vertical-align: middle;\n",
       "    }\n",
       "\n",
       "    .dataframe tbody tr th {\n",
       "        vertical-align: top;\n",
       "    }\n",
       "\n",
       "    .dataframe thead th {\n",
       "        text-align: right;\n",
       "    }\n",
       "</style>\n",
       "<table border=\"1\" class=\"dataframe\">\n",
       "  <thead>\n",
       "    <tr style=\"text-align: right;\">\n",
       "      <th></th>\n",
       "      <th>DepDel15</th>\n",
       "      <th>ArrDel15</th>\n",
       "    </tr>\n",
       "  </thead>\n",
       "  <tbody>\n",
       "    <tr>\n",
       "      <th>9</th>\n",
       "      <td>1.0</td>\n",
       "      <td>0</td>\n",
       "    </tr>\n",
       "    <tr>\n",
       "      <th>92</th>\n",
       "      <td>1.0</td>\n",
       "      <td>0</td>\n",
       "    </tr>\n",
       "    <tr>\n",
       "      <th>103</th>\n",
       "      <td>1.0</td>\n",
       "      <td>0</td>\n",
       "    </tr>\n",
       "    <tr>\n",
       "      <th>124</th>\n",
       "      <td>1.0</td>\n",
       "      <td>0</td>\n",
       "    </tr>\n",
       "    <tr>\n",
       "      <th>155</th>\n",
       "      <td>1.0</td>\n",
       "      <td>0</td>\n",
       "    </tr>\n",
       "    <tr>\n",
       "      <th>...</th>\n",
       "      <td>...</td>\n",
       "      <td>...</td>\n",
       "    </tr>\n",
       "    <tr>\n",
       "      <th>271758</th>\n",
       "      <td>1.0</td>\n",
       "      <td>0</td>\n",
       "    </tr>\n",
       "    <tr>\n",
       "      <th>271760</th>\n",
       "      <td>1.0</td>\n",
       "      <td>0</td>\n",
       "    </tr>\n",
       "    <tr>\n",
       "      <th>271775</th>\n",
       "      <td>1.0</td>\n",
       "      <td>0</td>\n",
       "    </tr>\n",
       "    <tr>\n",
       "      <th>271808</th>\n",
       "      <td>1.0</td>\n",
       "      <td>0</td>\n",
       "    </tr>\n",
       "    <tr>\n",
       "      <th>271875</th>\n",
       "      <td>1.0</td>\n",
       "      <td>0</td>\n",
       "    </tr>\n",
       "  </tbody>\n",
       "</table>\n",
       "<p>10856 rows × 2 columns</p>\n",
       "</div>"
      ],
      "text/plain": [
       "        DepDel15  ArrDel15\n",
       "9            1.0         0\n",
       "92           1.0         0\n",
       "103          1.0         0\n",
       "124          1.0         0\n",
       "155          1.0         0\n",
       "...          ...       ...\n",
       "271758       1.0         0\n",
       "271760       1.0         0\n",
       "271775       1.0         0\n",
       "271808       1.0         0\n",
       "271875       1.0         0\n",
       "\n",
       "[10856 rows x 2 columns]"
      ]
     },
     "execution_count": 6,
     "metadata": {},
     "output_type": "execute_result"
    }
   ],
   "source": [
    "import numpy as np\n",
    "\n",
    "df_flight[np.logical_and(df_flight.DepDel15 == 1, df_flight.ArrDel15 == 0 )][['DepDel15','ArrDel15']]"
   ]
  },
  {
   "cell_type": "markdown",
   "id": "0bb8f587",
   "metadata": {},
   "source": [
    "## 2. Clean outliers"
   ]
  },
  {
   "cell_type": "markdown",
   "id": "8d451bf6",
   "metadata": {},
   "source": [
    "View the distribution and summary statistics for the **DepDelay** and **ArrDelay** columns.\n"
   ]
  },
  {
   "cell_type": "code",
   "execution_count": 7,
   "id": "f29ea79f",
   "metadata": {},
   "outputs": [
    {
     "name": "stdout",
     "output_type": "stream",
     "text": [
      "DepDelay \n",
      "Minimum:-63.00\n",
      "Maximum:1425.00\n",
      "Mean:10.35\n",
      "Median:-1.00\n",
      "Mode:-3.00\n",
      "\n",
      "ArrDelay \n",
      "Minimum:-75.00\n",
      "Maximum:1440.00\n",
      "Mean:6.50\n",
      "Median:-3.00\n",
      "Mode:0.00\n",
      "\n"
     ]
    }
   ],
   "source": [
    "# Function to show summary stats and distribution for a column\n",
    "import matplotlib\n",
    "matplotlib.use('TkAgg')\n",
    "\n",
    "import seaborn as sns\n",
    "sns.set()\n",
    "\n",
    "# Define the function and the data column that we want to plot.\n",
    "\n",
    "def show_col_distribution (col_data):\n",
    "    from matplotlib import pyplot as plt\n",
    "\n",
    "    # Get statistics\n",
    "    \n",
    "    min_val = col_data.min()\n",
    "    max_val = col_data.max()\n",
    "    mean_val = col_data.mean()\n",
    "    med_val = col_data.median()\n",
    "    mod_val = col_data.mode()[0]\n",
    "    \n",
    "    print(col_data.name,\"\\nMinimum:{:.2f}\\nMaximum:{:.2f}\\nMean:{:.2f}\\nMedian:{:.2f}\\nMode:{:.2f}\\n\".format(min_val,\n",
    "                                                                                                            max_val,\n",
    "                                                                                                            mean_val,\n",
    "                                                                                                            med_val,\n",
    "                                                                                                            mod_val)\n",
    "    )\n",
    "    \n",
    "    # Create a figure for 2 subplots (2 rows, 1 column)\n",
    "    \n",
    "    fig, ax = plt.subplots(2,  1, figsize = (10,4))\n",
    "    \n",
    "    ax[0].hist(col_data)\n",
    "    ax[0].set_ylabel('Frequency')\n",
    "    \n",
    "    # Add lines for the mean, median, and mode\n",
    "    \n",
    "    ax[0].axvline(min_val, color = 'gray', linestyle='dashed', linewidth = 2)\n",
    "    ax[0].axvline(max_val, color = 'gray', linestyle='dashed', linewidth = 2)\n",
    "    ax[0].axvline(mean_val, color = 'yellow', linestyle='dashed', linewidth = 2)\n",
    "    ax[0].axvline(med_val, color = 'red', linestyle='dashed', linewidth = 2)\n",
    "    ax[0].axvline(mod_val, color = 'blue', linestyle='dashed', linewidth = 2)\n",
    "    \n",
    "    # Plot the boxplot\n",
    "    \n",
    "    ax[1].boxplot(col_data, vert=False)\n",
    "    ax[1].set_xlabel('Value')\n",
    "    \n",
    "    # Add a title to the Figure\n",
    "    fig.suptitle(col_data.name)\n",
    "    \n",
    "    # Show the figure\n",
    "    fig.show()\n",
    "    \n",
    "    \n",
    "    # Call the function for each delay field\n",
    "    \n",
    "    \n",
    "Target_Fields = ['DepDelay','ArrDelay']\n",
    "\n",
    "for col in Target_Fields:\n",
    "    show_col_distribution(df_flight[col])\n",
    "    \n",
    "    "
   ]
  },
  {
   "cell_type": "code",
   "execution_count": 8,
   "id": "1cee82a2",
   "metadata": {},
   "outputs": [
    {
     "name": "stdout",
     "output_type": "stream",
     "text": [
      "ArrDelay between -33.00 and 38.00\n",
      "DepDelay between -12.00 and 37.00\n"
     ]
    }
   ],
   "source": [
    "# Trim outliers for ArrDelay and DepDelay based on 1% and 90% percentiles\n",
    "\n",
    "Arr01_pertile = df_flight.ArrDelay.quantile(0.01)\n",
    "Arr90_pertile = df_flight.ArrDelay.quantile(0.90)\n",
    "\n",
    "print(\"ArrDelay between {:.2f} and {:.2f}\" .format(Arr01_pertile,Arr90_pertile))\n",
    "\n",
    "Dep01_pcntile = df_flight.DepDelay.quantile(0.01)\n",
    "Dep90_pcntile = df_flight.DepDelay.quantile(0.90)\n",
    "\n",
    "print(\"DepDelay between {:.2f} and {:.2f}\" .format(Dep01_pcntile,Dep90_pcntile))\n",
    "\n",
    "                                                                                                                                                                                                                         "
   ]
  },
  {
   "cell_type": "code",
   "execution_count": 9,
   "id": "fb8bd1e4",
   "metadata": {},
   "outputs": [],
   "source": [
    "# Filter a new Dataframe called New_flights by percentiles.\n",
    "\n",
    "df_flight = df_flight[np.logical_and(df_flight.ArrDelay > Arr01_pertile, \\\n",
    "                                         df_flight.ArrDelay < Arr90_pertile )]\n",
    "\n",
    "New_flights = df_flight[np.logical_and(df_flight.DepDelay > Dep01_pcntile, \\\n",
    "                                    df_flight.DepDelay < Dep90_pcntile )]\n",
    "\n",
    "# df_filtered = df[(df['column']>=100) & (df['column']<=150)]"
   ]
  },
  {
   "cell_type": "code",
   "execution_count": 10,
   "id": "ee5bbe55",
   "metadata": {
    "scrolled": true
   },
   "outputs": [
    {
     "name": "stdout",
     "output_type": "stream",
     "text": [
      "DepDelay \n",
      "Minimum:-11.00\n",
      "Maximum:36.00\n",
      "Mean:1.29\n",
      "Median:-1.00\n",
      "Mode:-3.00\n",
      "\n",
      "ArrDelay \n",
      "Minimum:-32.00\n",
      "Maximum:37.00\n",
      "Mean:-3.10\n",
      "Median:-5.00\n",
      "Mode:0.00\n",
      "\n"
     ]
    }
   ],
   "source": [
    "# View the revised distributions\n",
    "# Already defined Target_Fields before = ['DepDelay','ArrDelay']\n",
    "\n",
    "for col in Target_Fields:\n",
    "    show_col_distribution(New_flights[col])"
   ]
  },
  {
   "cell_type": "markdown",
   "id": "26d6a306",
   "metadata": {},
   "source": [
    "## Distribution plots - Empirical cumulative distribution function (ECDF)\n",
    "### An ECDF represents the proportion or count of observations falling below each unique value in a dataset.\n"
   ]
  },
  {
   "cell_type": "code",
   "execution_count": null,
   "id": "7bd7d08a",
   "metadata": {},
   "outputs": [],
   "source": [
    "import matplotlib.pyplot as plt\n",
    "\n",
    "def ecdf(data):\n",
    "\n",
    "    \"\"\"Compute ECDF for a one-dimensional array of measurements.\"\"\"\n",
    "    # Number of data points: n\n",
    "    n = len(data)\n",
    "    # x-data for the ECDF: x  / sort/order the data point\n",
    "    x = np.sort(data)\n",
    "\n",
    "    # y-data for the ECDF: y / give the x data point a position showing by percentage (0.0 ~ 1.0)\n",
    "    y = np.arange(1, n+1) / n\n",
    "    \n",
    "    return x , y\n",
    "\n",
    "# Compute ECDF plot for data: x_val, y_val\n",
    "\n",
    "x_val, y_val = ecdf(New_flights['ArrDelay'])\n",
    "print(x_val)  \n",
    "print(y_val)\n",
    "\n",
    "plt.plot(x_val, y_val, marker='.', linestyle='none')\n",
    "\n",
    "# # Use line to indicate the proximate 50% percentile on an ECDF\n",
    "\n",
    "plt.axvline(x=0, ymin=0.0, ymax=0.5, color ='r')\n",
    "plt.axhline(y=0.5, xmax= 35/75, color = 'r')\n",
    "plt.show()"
   ]
  },
  {
   "cell_type": "markdown",
   "id": "20a11842",
   "metadata": {},
   "source": [
    "### Use seaborn plot ECDF"
   ]
  },
  {
   "cell_type": "code",
   "execution_count": 16,
   "id": "125941f4",
   "metadata": {},
   "outputs": [],
   "source": [
    "import matplotlib.pyplot as plt\n",
    "import seaborn as sns\n",
    "sns.set()\n",
    "\n",
    "sns.displot(New_flights, x=\"DepDelay\", hue=\"Carrier\", kind=\"ecdf\")\n",
    "sns.displot(New_flights, x=\"DepDelay\", hue=\"Carrier\", kind=\"ecdf\", stat=\"count\")\n",
    "\n",
    "plt.show()"
   ]
  },
  {
   "cell_type": "markdown",
   "id": "43cc6361",
   "metadata": {},
   "source": [
    "A downside is that the relationship between the appearance of the plot and the basic properties of the distribution (such as its central tendency, variance, and the presence of any bimodality) may not be as intuitive."
   ]
  },
  {
   "cell_type": "markdown",
   "id": "7d2d1434",
   "metadata": {},
   "source": [
    "## 3. Explore the data"
   ]
  },
  {
   "cell_type": "markdown",
   "id": "009279e1",
   "metadata": {},
   "source": [
    "### Q1. What are the average (mean) departure and arrival delays?"
   ]
  },
  {
   "cell_type": "code",
   "execution_count": 54,
   "id": "3c075905",
   "metadata": {},
   "outputs": [
    {
     "data": {
      "text/plain": [
       "DepDelay    1.288417\n",
       "ArrDelay   -3.103666\n",
       "dtype: float64"
      ]
     },
     "execution_count": 54,
     "metadata": {},
     "output_type": "execute_result"
    }
   ],
   "source": [
    "New_flights[['DepDelay','ArrDelay']].mean()    # This Data perform the result not include outliers."
   ]
  },
  {
   "cell_type": "code",
   "execution_count": 55,
   "id": "46ee7782",
   "metadata": {},
   "outputs": [
    {
     "data": {
      "text/html": [
       "<div>\n",
       "<style scoped>\n",
       "    .dataframe tbody tr th:only-of-type {\n",
       "        vertical-align: middle;\n",
       "    }\n",
       "\n",
       "    .dataframe tbody tr th {\n",
       "        vertical-align: top;\n",
       "    }\n",
       "\n",
       "    .dataframe thead th {\n",
       "        text-align: right;\n",
       "    }\n",
       "</style>\n",
       "<table border=\"1\" class=\"dataframe\">\n",
       "  <thead>\n",
       "    <tr style=\"text-align: right;\">\n",
       "      <th></th>\n",
       "      <th>Year</th>\n",
       "      <th>Month</th>\n",
       "      <th>DayofMonth</th>\n",
       "      <th>DayOfWeek</th>\n",
       "      <th>OriginAirportID</th>\n",
       "      <th>DestAirportID</th>\n",
       "      <th>CRSDepTime</th>\n",
       "      <th>DepDelay</th>\n",
       "      <th>DepDel15</th>\n",
       "      <th>CRSArrTime</th>\n",
       "      <th>ArrDelay</th>\n",
       "      <th>ArrDel15</th>\n",
       "      <th>Cancelled</th>\n",
       "    </tr>\n",
       "  </thead>\n",
       "  <tbody>\n",
       "    <tr>\n",
       "      <th>count</th>\n",
       "      <td>234802.0</td>\n",
       "      <td>234802.000000</td>\n",
       "      <td>234802.000000</td>\n",
       "      <td>234802.000000</td>\n",
       "      <td>234802.000000</td>\n",
       "      <td>234802.000000</td>\n",
       "      <td>234802.000000</td>\n",
       "      <td>234802.000000</td>\n",
       "      <td>234802.000000</td>\n",
       "      <td>234802.000000</td>\n",
       "      <td>234802.000000</td>\n",
       "      <td>234802.000000</td>\n",
       "      <td>234802.000000</td>\n",
       "    </tr>\n",
       "    <tr>\n",
       "      <th>mean</th>\n",
       "      <td>2013.0</td>\n",
       "      <td>7.012951</td>\n",
       "      <td>15.810819</td>\n",
       "      <td>3.902309</td>\n",
       "      <td>12751.998284</td>\n",
       "      <td>12735.984404</td>\n",
       "      <td>1297.782046</td>\n",
       "      <td>1.288417</td>\n",
       "      <td>0.103445</td>\n",
       "      <td>1479.238690</td>\n",
       "      <td>-3.103666</td>\n",
       "      <td>0.116243</td>\n",
       "      <td>0.012155</td>\n",
       "    </tr>\n",
       "    <tr>\n",
       "      <th>std</th>\n",
       "      <td>0.0</td>\n",
       "      <td>1.999885</td>\n",
       "      <td>8.838329</td>\n",
       "      <td>1.993400</td>\n",
       "      <td>1508.571872</td>\n",
       "      <td>1506.084054</td>\n",
       "      <td>469.718843</td>\n",
       "      <td>9.153171</td>\n",
       "      <td>0.304539</td>\n",
       "      <td>488.477765</td>\n",
       "      <td>12.946277</td>\n",
       "      <td>0.320516</td>\n",
       "      <td>0.109578</td>\n",
       "    </tr>\n",
       "    <tr>\n",
       "      <th>min</th>\n",
       "      <td>2013.0</td>\n",
       "      <td>4.000000</td>\n",
       "      <td>1.000000</td>\n",
       "      <td>1.000000</td>\n",
       "      <td>10140.000000</td>\n",
       "      <td>10140.000000</td>\n",
       "      <td>1.000000</td>\n",
       "      <td>-11.000000</td>\n",
       "      <td>0.000000</td>\n",
       "      <td>1.000000</td>\n",
       "      <td>-32.000000</td>\n",
       "      <td>0.000000</td>\n",
       "      <td>0.000000</td>\n",
       "    </tr>\n",
       "    <tr>\n",
       "      <th>25%</th>\n",
       "      <td>2013.0</td>\n",
       "      <td>5.000000</td>\n",
       "      <td>8.000000</td>\n",
       "      <td>2.000000</td>\n",
       "      <td>11292.000000</td>\n",
       "      <td>11292.000000</td>\n",
       "      <td>900.000000</td>\n",
       "      <td>-5.000000</td>\n",
       "      <td>0.000000</td>\n",
       "      <td>1105.000000</td>\n",
       "      <td>-12.000000</td>\n",
       "      <td>0.000000</td>\n",
       "      <td>0.000000</td>\n",
       "    </tr>\n",
       "    <tr>\n",
       "      <th>50%</th>\n",
       "      <td>2013.0</td>\n",
       "      <td>7.000000</td>\n",
       "      <td>16.000000</td>\n",
       "      <td>4.000000</td>\n",
       "      <td>12892.000000</td>\n",
       "      <td>12892.000000</td>\n",
       "      <td>1255.000000</td>\n",
       "      <td>-1.000000</td>\n",
       "      <td>0.000000</td>\n",
       "      <td>1500.000000</td>\n",
       "      <td>-5.000000</td>\n",
       "      <td>0.000000</td>\n",
       "      <td>0.000000</td>\n",
       "    </tr>\n",
       "    <tr>\n",
       "      <th>75%</th>\n",
       "      <td>2013.0</td>\n",
       "      <td>9.000000</td>\n",
       "      <td>23.000000</td>\n",
       "      <td>6.000000</td>\n",
       "      <td>14100.000000</td>\n",
       "      <td>14057.000000</td>\n",
       "      <td>1705.000000</td>\n",
       "      <td>4.000000</td>\n",
       "      <td>0.000000</td>\n",
       "      <td>1900.000000</td>\n",
       "      <td>4.000000</td>\n",
       "      <td>0.000000</td>\n",
       "      <td>0.000000</td>\n",
       "    </tr>\n",
       "    <tr>\n",
       "      <th>max</th>\n",
       "      <td>2013.0</td>\n",
       "      <td>10.000000</td>\n",
       "      <td>31.000000</td>\n",
       "      <td>7.000000</td>\n",
       "      <td>15376.000000</td>\n",
       "      <td>15376.000000</td>\n",
       "      <td>2359.000000</td>\n",
       "      <td>36.000000</td>\n",
       "      <td>1.000000</td>\n",
       "      <td>2359.000000</td>\n",
       "      <td>37.000000</td>\n",
       "      <td>1.000000</td>\n",
       "      <td>1.000000</td>\n",
       "    </tr>\n",
       "  </tbody>\n",
       "</table>\n",
       "</div>"
      ],
      "text/plain": [
       "           Year          Month     DayofMonth      DayOfWeek  OriginAirportID  \\\n",
       "count  234802.0  234802.000000  234802.000000  234802.000000    234802.000000   \n",
       "mean     2013.0       7.012951      15.810819       3.902309     12751.998284   \n",
       "std         0.0       1.999885       8.838329       1.993400      1508.571872   \n",
       "min      2013.0       4.000000       1.000000       1.000000     10140.000000   \n",
       "25%      2013.0       5.000000       8.000000       2.000000     11292.000000   \n",
       "50%      2013.0       7.000000      16.000000       4.000000     12892.000000   \n",
       "75%      2013.0       9.000000      23.000000       6.000000     14100.000000   \n",
       "max      2013.0      10.000000      31.000000       7.000000     15376.000000   \n",
       "\n",
       "       DestAirportID     CRSDepTime       DepDelay       DepDel15  \\\n",
       "count  234802.000000  234802.000000  234802.000000  234802.000000   \n",
       "mean    12735.984404    1297.782046       1.288417       0.103445   \n",
       "std      1506.084054     469.718843       9.153171       0.304539   \n",
       "min     10140.000000       1.000000     -11.000000       0.000000   \n",
       "25%     11292.000000     900.000000      -5.000000       0.000000   \n",
       "50%     12892.000000    1255.000000      -1.000000       0.000000   \n",
       "75%     14057.000000    1705.000000       4.000000       0.000000   \n",
       "max     15376.000000    2359.000000      36.000000       1.000000   \n",
       "\n",
       "          CRSArrTime       ArrDelay       ArrDel15      Cancelled  \n",
       "count  234802.000000  234802.000000  234802.000000  234802.000000  \n",
       "mean     1479.238690      -3.103666       0.116243       0.012155  \n",
       "std       488.477765      12.946277       0.320516       0.109578  \n",
       "min         1.000000     -32.000000       0.000000       0.000000  \n",
       "25%      1105.000000     -12.000000       0.000000       0.000000  \n",
       "50%      1500.000000      -5.000000       0.000000       0.000000  \n",
       "75%      1900.000000       4.000000       0.000000       0.000000  \n",
       "max      2359.000000      37.000000       1.000000       1.000000  "
      ]
     },
     "execution_count": 55,
     "metadata": {},
     "output_type": "execute_result"
    }
   ],
   "source": [
    "New_flights.describe()     # This Data perform the result not include outliers."
   ]
  },
  {
   "cell_type": "markdown",
   "id": "266965ba",
   "metadata": {},
   "source": [
    "### Q2. How do the carriers compare in terms of arrival and departure delay performance?\n",
    "Now let's see how each carrier performed. Use carrier as a categorical variable."
   ]
  },
  {
   "cell_type": "code",
   "execution_count": 69,
   "id": "60c2e547",
   "metadata": {},
   "outputs": [],
   "source": [
    "for col in Target_Fields:\n",
    "    plt.figure()\n",
    "    sns.boxenplot(x = 'Carrier', y = col,  data = New_flights).set_title(col)\n",
    "plt.show()"
   ]
  },
  {
   "cell_type": "markdown",
   "id": "2a8b4172",
   "metadata": {},
   "source": [
    "### Q3. Are some days of the week more prone to arrival days than others?\n",
    "See if there is a noticeable difference in the different time categories."
   ]
  },
  {
   "cell_type": "code",
   "execution_count": 51,
   "id": "9075a077",
   "metadata": {},
   "outputs": [],
   "source": [
    "sns.boxenplot(x = 'Month', y = 'ArrDelay', data = New_flights)\n",
    "plt.show()"
   ]
  },
  {
   "cell_type": "code",
   "execution_count": 70,
   "id": "4b14f59a",
   "metadata": {},
   "outputs": [],
   "source": [
    "sns.boxenplot(x = 'DayOfWeek', y = 'ArrDelay', data = New_flights)\n",
    "plt.show()"
   ]
  },
  {
   "cell_type": "markdown",
   "id": "7b1acea8",
   "metadata": {},
   "source": [
    "### Q4.Which departure airport has the highest average departure delay?\n",
    " 1. Group DataFrame by OriginAirportName column\n",
    " 2. Calculating mean values based on OriginAirportName Group\n",
    " 3. Order DataFrame by mean value"
   ]
  },
  {
   "cell_type": "code",
   "execution_count": 100,
   "id": "46e1e17c",
   "metadata": {},
   "outputs": [
    {
     "name": "stdout",
     "output_type": "stream",
     "text": [
      "<class 'pandas.core.groupby.generic.DataFrameGroupBy'>\n"
     ]
    },
    {
     "data": {
      "text/plain": [
       "<AxesSubplot:xlabel='OriginAirportName'>"
      ]
     },
     "execution_count": 100,
     "metadata": {},
     "output_type": "execute_result"
    }
   ],
   "source": [
    "Dep_airport_group = New_flights.groupby(New_flights.OriginAirportName)\n",
    "print(type(Dep_airport_group))\n",
    "\n",
    "Mean_dep_delay = pd.DataFrame(Dep_airport_group['DepDelay'].mean()).sort_values('DepDelay', ascending = False)\n",
    "Mean_dep_delay\n",
    "\n",
    "# Method 1 - use .plot directly\n",
    "Mean_dep_delay.plot( kind = \"bar\", figsize=(12,12))"
   ]
  },
  {
   "cell_type": "code",
   "execution_count": 101,
   "id": "3d8e208e",
   "metadata": {},
   "outputs": [],
   "source": [
    "# Method 2 - use seaborn barplot\n",
    "Mean_dep_delay['OriginAirportName'] = Mean_dep_delay.index\n",
    "\n",
    "sns.barplot(x = \"OriginAirportName\",  y = \"DepDelay\", data = Mean_dep_delay)\n",
    "plt.xticks(rotation = 90)\n",
    "plt.tight_layout()\n",
    "plt.show()"
   ]
  },
  {
   "cell_type": "code",
   "execution_count": null,
   "id": "d706ae6e",
   "metadata": {},
   "outputs": [],
   "source": []
  }
 ],
 "metadata": {
  "kernelspec": {
   "display_name": "Python 3 (ipykernel)",
   "language": "python",
   "name": "python3"
  },
  "language_info": {
   "codemirror_mode": {
    "name": "ipython",
    "version": 3
   },
   "file_extension": ".py",
   "mimetype": "text/x-python",
   "name": "python",
   "nbconvert_exporter": "python",
   "pygments_lexer": "ipython3",
   "version": "3.9.7"
  }
 },
 "nbformat": 4,
 "nbformat_minor": 5
}
