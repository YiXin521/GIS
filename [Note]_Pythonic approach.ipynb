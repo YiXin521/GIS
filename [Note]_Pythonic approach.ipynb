{
 "cells": [
  {
   "cell_type": "markdown",
   "id": "1dcab3b7",
   "metadata": {},
   "source": [
    "### len( )"
   ]
  },
  {
   "cell_type": "code",
   "execution_count": 1,
   "id": "e468b66d",
   "metadata": {},
   "outputs": [
    {
     "name": "stdout",
     "output_type": "stream",
     "text": [
      "9\n",
      "13\n",
      "range(0, 9)\n"
     ]
    }
   ],
   "source": [
    "# categories list\n",
    "categories = ['Mäntel Jacken','Pullover Strickjacken',\\\n",
    "              'Sweatshirts','Hoodies','Jogginghosen',\\\n",
    "              'Kleider','Jumpsuits','Jeans','Röcke']\n",
    "print(len(categories))\n",
    "print(len(categories[0]))\n",
    "print(range(len(categories)))"
   ]
  },
  {
   "cell_type": "code",
   "execution_count": 2,
   "id": "7ab77964",
   "metadata": {},
   "outputs": [
    {
     "name": "stdout",
     "output_type": "stream",
     "text": [
      "['Mäntel Jacken', 'Pullover Strickjacken', 'Sweatshirts', 'Jogginghosen']\n"
     ]
    }
   ],
   "source": [
    "# Suppose we wanted to collect the item names in the above list that have 10 letters or more.\n",
    "# first create an index variable (i), use i to iterate over the list\n",
    "\n",
    "ten_letter_list = []\n",
    "\n",
    "for item in categories:\n",
    "    if len(item) >= 10:\n",
    "        ten_letter_list.append(item)\n",
    "        \n",
    "print(ten_letter_list)"
   ]
  },
  {
   "cell_type": "code",
   "execution_count": 3,
   "id": "c17a8de5",
   "metadata": {},
   "outputs": [
    {
     "name": "stdout",
     "output_type": "stream",
     "text": [
      "['Mäntel Jacken', 'Pullover Strickjacken', 'Sweatshirts', 'Jogginghosen']\n"
     ]
    }
   ],
   "source": [
    "# Print the list created by using list comprehension\n",
    "\n",
    "ten_letter_list = [item for item in categories if len(item) >= 10]\n",
    "print(ten_letter_list)"
   ]
  },
  {
   "cell_type": "markdown",
   "id": "32092030",
   "metadata": {},
   "source": [
    "## iterabal and itertools\n",
    "https://docs.python.org/3/library/itertools.html\n"
   ]
  },
  {
   "cell_type": "code",
   "execution_count": 43,
   "id": "a40bba7f",
   "metadata": {},
   "outputs": [
    {
     "name": "stdout",
     "output_type": "stream",
     "text": [
      "Counter({'J': 3, 'M': 1, 'P': 1, 'S': 1, 'H': 1, 'K': 1, 'R': 1})\n",
      "['Jogginghosen', 'Jumpsuits', 'Jeans']\n"
     ]
    }
   ],
   "source": [
    "# Use list comprehension to get each itme's starting letter\n",
    "starting_letters = [name[0] for name in categories]\n",
    "\n",
    "from collections import Counter\n",
    "starting_letters_count = Counter(starting_letters)\n",
    "print(starting_letters_count)\n",
    "\n",
    "letlist = [wrd for wrd in categories if wrd[0] == 'J']   # wrd.startswith('J')\n",
    "print(letlist)\n"
   ]
  },
  {
   "cell_type": "markdown",
   "id": "d143ff03",
   "metadata": {},
   "source": [
    "### enumerate( ) - for obtaining an indexed list"
   ]
  },
  {
   "cell_type": "code",
   "execution_count": 4,
   "id": "f7a89b5e",
   "metadata": {},
   "outputs": [
    {
     "name": "stdout",
     "output_type": "stream",
     "text": [
      "[(1, 'Mäntel Jacken'), (2, 'Pullover Strickjacken'), (3, 'Sweatshirts'), (4, 'Hoodies'), (5, 'Jogginghosen'), (6, 'Kleider'), (7, 'Jumpsuits'), (8, 'Jeans'), (9, 'Röcke')]\n"
     ]
    }
   ],
   "source": [
    "# the concept of enumerate\n",
    "\n",
    "indexed_item = []\n",
    "\n",
    "for i in range(len(categories)):\n",
    "    index_item = (i+1, categories[i])    # I want index beging from 1 \n",
    "    indexed_item.append(index_item)\n",
    "    \n",
    "    \n",
    "print(indexed_item)\n"
   ]
  },
  {
   "cell_type": "code",
   "execution_count": 5,
   "id": "62d042f3",
   "metadata": {},
   "outputs": [
    {
     "name": "stdout",
     "output_type": "stream",
     "text": [
      "[(1, 'Mäntel Jacken'), (2, 'Pullover Strickjacken'), (3, 'Sweatshirts'), (4, 'Hoodies'), (5, 'Jogginghosen'), (6, 'Kleider'), (7, 'Jumpsuits'), (8, 'Jeans'), (9, 'Röcke')]\n"
     ]
    }
   ],
   "source": [
    "# Rewrite the for loop to use enumerate\n",
    "\n",
    "index_item_2 = []\n",
    "\n",
    "for i, item in enumerate(categories):\n",
    "    index_item = (i+1,item)\n",
    "    index_item_2.append(index_item)\n",
    "print(index_item_2)"
   ]
  },
  {
   "cell_type": "code",
   "execution_count": 6,
   "id": "2a255a06",
   "metadata": {},
   "outputs": [
    {
     "name": "stdout",
     "output_type": "stream",
     "text": [
      "[(1, 'Mäntel Jacken'), (2, 'Pullover Strickjacken'), (3, 'Sweatshirts'), (4, 'Hoodies'), (5, 'Jogginghosen'), (6, 'Kleider'), (7, 'Jumpsuits'), (8, 'Jeans'), (9, 'Röcke')]\n"
     ]
    }
   ],
   "source": [
    "# Rewrite the above for loop using list comprehension\n",
    "\n",
    "index_item_3 = [(i+1, item) for i, item in enumerate(categories) ]\n",
    "print(index_item_3)"
   ]
  },
  {
   "cell_type": "code",
   "execution_count": 7,
   "id": "91c18244",
   "metadata": {},
   "outputs": [
    {
     "name": "stdout",
     "output_type": "stream",
     "text": [
      "[(1, 'Mäntel Jacken'), (2, 'Pullover Strickjacken'), (3, 'Sweatshirts'), (4, 'Hoodies'), (5, 'Jogginghosen'), (6, 'Kleider'), (7, 'Jumpsuits'), (8, 'Jeans'), (9, 'Röcke')]\n"
     ]
    }
   ],
   "source": [
    "# Unpack an enumerate object with a starting index of one\n",
    "\n",
    "index_unpack = [ *enumerate(categories, 1) ]\n",
    "print(index_unpack)"
   ]
  },
  {
   "cell_type": "code",
   "execution_count": 8,
   "id": "186e34f3",
   "metadata": {},
   "outputs": [
    {
     "name": "stdout",
     "output_type": "stream",
     "text": [
      "<class 'zip'>\n",
      "[('Mäntel Jacken', 12), ('Pullover Strickjacken', 43), ('Sweatshirts', 58), ('Hoodies', 25), ('Jogginghosen', 59), ('Kleider', 27), ('Jumpsuits', 35), ('Jeans', 46), ('Röcke', 33)]\n"
     ]
    }
   ],
   "source": [
    "amount = [12, 43, 58, 25, 59, 27, 35, 46, 33]\n",
    "\n",
    "item_amount = zip(categories, amount)\n",
    "print(type(item_amount))\n",
    "print(list(item_amount))"
   ]
  },
  {
   "cell_type": "markdown",
   "id": "66b60fa1",
   "metadata": {},
   "source": [
    "### if..else in List Comprehension"
   ]
  },
  {
   "cell_type": "code",
   "execution_count": 9,
   "id": "4e4054c3",
   "metadata": {
    "scrolled": true
   },
   "outputs": [
    {
     "name": "stdout",
     "output_type": "stream",
     "text": [
      "[12, 33, 48, 25, 49, 27, 35, 36, 33]\n",
      "<class 'list'>\n",
      "[('Mäntel Jacken', 12), ('Pullover Strickjacken', 33), ('Sweatshirts', 48), ('Hoodies', 25), ('Jogginghosen', 49), ('Kleider', 27), ('Jumpsuits', 35), ('Jeans', 36), ('Röcke', 33)]\n"
     ]
    }
   ],
   "source": [
    "# want to reduce the item number if > 40 then -10\n",
    "\n",
    "new_amount = [count-10 if count > 40 else count for count in amount ]  # \"Even\" if i%2==0 else \"Odd\" for i in range(8)]\n",
    "print(new_amount)\n",
    "\n",
    "item_new_amount = [ (categories[i], count) for i, count in enumerate(new_amount)]\n",
    "print(type(item_new_amount))\n",
    "print(item_new_amount)"
   ]
  },
  {
   "cell_type": "markdown",
   "id": "82db3e78",
   "metadata": {},
   "source": [
    "## Find the Path / Destination "
   ]
  },
  {
   "cell_type": "code",
   "execution_count": 10,
   "id": "39dd071a",
   "metadata": {},
   "outputs": [
    {
     "name": "stdout",
     "output_type": "stream",
     "text": [
      "[('B', 'D', 'C', 'D'), ('C', 'B', 'A', 'C')]\n",
      "{'B', 'D', 'C'} {'A', 'B', 'C'}\n",
      "{'A'}\n"
     ]
    }
   ],
   "source": [
    "path = [['B','C'], ['D','B'],['C','A'],['D','C']]\n",
    "\n",
    "# because the structure of path = [[start, end]]\n",
    "# use zip will create a new list [[start, strat,..], [end,end,...]]\n",
    "unpack = (zip(*path))  \n",
    "print(list(unpack))\n",
    "\n",
    "# use map function to set the lists in order to reduce the duplicate\n",
    "A, B = map(set,(zip(*path)))\n",
    "print(A, B)\n",
    "result = B - A\n",
    "print(result)"
   ]
  },
  {
   "cell_type": "code",
   "execution_count": 11,
   "id": "e6656dbf",
   "metadata": {},
   "outputs": [
    {
     "name": "stdout",
     "output_type": "stream",
     "text": [
      "{'B': 1, 'C': 0}\n",
      "{'B': 1, 'C': 0, 'D': 1}\n",
      "{'B': 1, 'C': 1, 'D': 1, 'A': 0}\n",
      "{'B': 1, 'C': 1, 'D': 2, 'A': 0}\n",
      "A\n"
     ]
    }
   ],
   "source": [
    "result = {}  # want to create a dict { start: 1, end: 0}\n",
    "\n",
    "# The method get() returns a value for the given key. \n",
    "# If key is not available then returns default value None.\n",
    "# Syntax: dict.get(key, default=None)\n",
    "\n",
    "for alpha in path:\n",
    "        start, end = alpha\n",
    "        result[start] = result.get(start, 0) + 1    # get(key, values)\n",
    "        result[end] = result.get(end, 0)\n",
    "        print(result)\n",
    "        \n",
    "for alpha in result:\n",
    "    if result[alpha] == 0:\n",
    "        print(alpha)\n",
    "\n"
   ]
  },
  {
   "cell_type": "markdown",
   "id": "96660e1e",
   "metadata": {},
   "source": [
    "### O(nlog(n)) greater than O(n)!?"
   ]
  },
  {
   "cell_type": "code",
   "execution_count": 12,
   "id": "cd6b93d9",
   "metadata": {},
   "outputs": [
    {
     "name": "stdout",
     "output_type": "stream",
     "text": [
      "[4, 0, 1, 1, 3]\n"
     ]
    }
   ],
   "source": [
    "nums = [8,1,2,2,3]\n",
    "\n",
    "result = []\n",
    "\n",
    "for i in nums:\n",
    "    count = 0\n",
    "    for j in nums:\n",
    "        if i > j:\n",
    "         count += 1\n",
    "    result.append(count)\n",
    "\n",
    "print(result)"
   ]
  },
  {
   "cell_type": "code",
   "execution_count": 13,
   "id": "92317755",
   "metadata": {},
   "outputs": [
    {
     "name": "stdout",
     "output_type": "stream",
     "text": [
      "4\n",
      "[4, 0, 1, 1, 3]\n"
     ]
    }
   ],
   "source": [
    "sorted_nums = sorted(nums)\n",
    "\n",
    "print(sorted_nums.index(8))\n",
    "\n",
    "result_1 = [sorted_nums.index(num) for num in nums]\n",
    "print(result_1)"
   ]
  },
  {
   "cell_type": "markdown",
   "id": "d527cb32",
   "metadata": {},
   "source": [
    "### In Python, dates are objects !!!"
   ]
  },
  {
   "cell_type": "code",
   "execution_count": 20,
   "id": "dd501265",
   "metadata": {},
   "outputs": [
    {
     "name": "stdout",
     "output_type": "stream",
     "text": [
      "2022\n",
      "3\n",
      "14\n",
      "2022-03-14\n"
     ]
    }
   ],
   "source": [
    "import datetime\n",
    "today = datetime.date.today()\n",
    "\n",
    "print(today.year)\n",
    "print(today.month)\n",
    "print(today.day)\n",
    "print(str(today))"
   ]
  },
  {
   "cell_type": "markdown",
   "id": "f3de3772",
   "metadata": {},
   "source": [
    "##  key=lambda x: x[1] "
   ]
  },
  {
   "cell_type": "code",
   "execution_count": 41,
   "id": "4d13b844",
   "metadata": {},
   "outputs": [
    {
     "name": "stdout",
     "output_type": "stream",
     "text": [
      "[[8, 2, 5]]\n",
      "[[2, 5, 6], [7, 8], [9, 2, 3]]\n",
      "[[9, 2, 3]]\n"
     ]
    }
   ],
   "source": [
    "mylist = [[7, 8], [9, 2, 3], [2, 5, 6]]\n",
    "\n",
    "index_1 = [list(map(lambda x: x[1], mylist))]   # x[INDEX]\n",
    "print(index_1)\n",
    "\n",
    "mylist_Sort = sorted(mylist, key = lambda x: x[0])  # x[INDEX]\n",
    "print(mylist_Sort)\n",
    "\n",
    "mylist_max = sorted(mylist, key = lambda x: x[0],reverse = True )[:1]   # x[INDEX]\n",
    "print(mylist_max)"
   ]
  },
  {
   "cell_type": "code",
   "execution_count": null,
   "id": "26e6b647",
   "metadata": {},
   "outputs": [],
   "source": []
  },
  {
   "cell_type": "code",
   "execution_count": null,
   "id": "83239aea",
   "metadata": {},
   "outputs": [],
   "source": []
  }
 ],
 "metadata": {
  "kernelspec": {
   "display_name": "Python 3 (ipykernel)",
   "language": "python",
   "name": "python3"
  },
  "language_info": {
   "codemirror_mode": {
    "name": "ipython",
    "version": 3
   },
   "file_extension": ".py",
   "mimetype": "text/x-python",
   "name": "python",
   "nbconvert_exporter": "python",
   "pygments_lexer": "ipython3",
   "version": "3.9.7"
  }
 },
 "nbformat": 4,
 "nbformat_minor": 5
}
