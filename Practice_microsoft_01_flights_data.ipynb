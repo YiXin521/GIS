{
 "cells": [
  {
   "cell_type": "code",
   "execution_count": 11,
   "id": "ae45a18f",
   "metadata": {},
   "outputs": [
    {
     "data": {
      "text/html": [
       "<div>\n",
       "<style scoped>\n",
       "    .dataframe tbody tr th:only-of-type {\n",
       "        vertical-align: middle;\n",
       "    }\n",
       "\n",
       "    .dataframe tbody tr th {\n",
       "        vertical-align: top;\n",
       "    }\n",
       "\n",
       "    .dataframe thead th {\n",
       "        text-align: right;\n",
       "    }\n",
       "</style>\n",
       "<table border=\"1\" class=\"dataframe\">\n",
       "  <thead>\n",
       "    <tr style=\"text-align: right;\">\n",
       "      <th></th>\n",
       "      <th>Year</th>\n",
       "      <th>Month</th>\n",
       "      <th>DayofMonth</th>\n",
       "      <th>DayOfWeek</th>\n",
       "      <th>Carrier</th>\n",
       "      <th>OriginAirportID</th>\n",
       "      <th>OriginAirportName</th>\n",
       "      <th>OriginCity</th>\n",
       "      <th>OriginState</th>\n",
       "      <th>DestAirportID</th>\n",
       "      <th>DestAirportName</th>\n",
       "      <th>DestCity</th>\n",
       "      <th>DestState</th>\n",
       "      <th>CRSDepTime</th>\n",
       "      <th>DepDelay</th>\n",
       "      <th>DepDel15</th>\n",
       "      <th>CRSArrTime</th>\n",
       "      <th>ArrDelay</th>\n",
       "      <th>ArrDel15</th>\n",
       "      <th>Cancelled</th>\n",
       "    </tr>\n",
       "  </thead>\n",
       "  <tbody>\n",
       "    <tr>\n",
       "      <th>0</th>\n",
       "      <td>2013</td>\n",
       "      <td>9</td>\n",
       "      <td>16</td>\n",
       "      <td>1</td>\n",
       "      <td>DL</td>\n",
       "      <td>15304</td>\n",
       "      <td>Tampa International</td>\n",
       "      <td>Tampa</td>\n",
       "      <td>FL</td>\n",
       "      <td>12478</td>\n",
       "      <td>John F. Kennedy International</td>\n",
       "      <td>New York</td>\n",
       "      <td>NY</td>\n",
       "      <td>1539</td>\n",
       "      <td>4</td>\n",
       "      <td>0.0</td>\n",
       "      <td>1824</td>\n",
       "      <td>13</td>\n",
       "      <td>0</td>\n",
       "      <td>0</td>\n",
       "    </tr>\n",
       "    <tr>\n",
       "      <th>1</th>\n",
       "      <td>2013</td>\n",
       "      <td>9</td>\n",
       "      <td>23</td>\n",
       "      <td>1</td>\n",
       "      <td>WN</td>\n",
       "      <td>14122</td>\n",
       "      <td>Pittsburgh International</td>\n",
       "      <td>Pittsburgh</td>\n",
       "      <td>PA</td>\n",
       "      <td>13232</td>\n",
       "      <td>Chicago Midway International</td>\n",
       "      <td>Chicago</td>\n",
       "      <td>IL</td>\n",
       "      <td>710</td>\n",
       "      <td>3</td>\n",
       "      <td>0.0</td>\n",
       "      <td>740</td>\n",
       "      <td>22</td>\n",
       "      <td>1</td>\n",
       "      <td>0</td>\n",
       "    </tr>\n",
       "    <tr>\n",
       "      <th>2</th>\n",
       "      <td>2013</td>\n",
       "      <td>9</td>\n",
       "      <td>7</td>\n",
       "      <td>6</td>\n",
       "      <td>AS</td>\n",
       "      <td>14747</td>\n",
       "      <td>Seattle/Tacoma International</td>\n",
       "      <td>Seattle</td>\n",
       "      <td>WA</td>\n",
       "      <td>11278</td>\n",
       "      <td>Ronald Reagan Washington National</td>\n",
       "      <td>Washington</td>\n",
       "      <td>DC</td>\n",
       "      <td>810</td>\n",
       "      <td>-3</td>\n",
       "      <td>0.0</td>\n",
       "      <td>1614</td>\n",
       "      <td>-7</td>\n",
       "      <td>0</td>\n",
       "      <td>0</td>\n",
       "    </tr>\n",
       "    <tr>\n",
       "      <th>3</th>\n",
       "      <td>2013</td>\n",
       "      <td>7</td>\n",
       "      <td>22</td>\n",
       "      <td>1</td>\n",
       "      <td>OO</td>\n",
       "      <td>13930</td>\n",
       "      <td>Chicago O'Hare International</td>\n",
       "      <td>Chicago</td>\n",
       "      <td>IL</td>\n",
       "      <td>11042</td>\n",
       "      <td>Cleveland-Hopkins International</td>\n",
       "      <td>Cleveland</td>\n",
       "      <td>OH</td>\n",
       "      <td>804</td>\n",
       "      <td>35</td>\n",
       "      <td>1.0</td>\n",
       "      <td>1027</td>\n",
       "      <td>33</td>\n",
       "      <td>1</td>\n",
       "      <td>0</td>\n",
       "    </tr>\n",
       "    <tr>\n",
       "      <th>4</th>\n",
       "      <td>2013</td>\n",
       "      <td>5</td>\n",
       "      <td>16</td>\n",
       "      <td>4</td>\n",
       "      <td>DL</td>\n",
       "      <td>13931</td>\n",
       "      <td>Norfolk International</td>\n",
       "      <td>Norfolk</td>\n",
       "      <td>VA</td>\n",
       "      <td>10397</td>\n",
       "      <td>Hartsfield-Jackson Atlanta International</td>\n",
       "      <td>Atlanta</td>\n",
       "      <td>GA</td>\n",
       "      <td>545</td>\n",
       "      <td>-1</td>\n",
       "      <td>0.0</td>\n",
       "      <td>728</td>\n",
       "      <td>-9</td>\n",
       "      <td>0</td>\n",
       "      <td>0</td>\n",
       "    </tr>\n",
       "  </tbody>\n",
       "</table>\n",
       "</div>"
      ],
      "text/plain": [
       "   Year  Month  DayofMonth  DayOfWeek Carrier  OriginAirportID  \\\n",
       "0  2013      9          16          1      DL            15304   \n",
       "1  2013      9          23          1      WN            14122   \n",
       "2  2013      9           7          6      AS            14747   \n",
       "3  2013      7          22          1      OO            13930   \n",
       "4  2013      5          16          4      DL            13931   \n",
       "\n",
       "              OriginAirportName  OriginCity OriginState  DestAirportID  \\\n",
       "0           Tampa International       Tampa          FL          12478   \n",
       "1      Pittsburgh International  Pittsburgh          PA          13232   \n",
       "2  Seattle/Tacoma International     Seattle          WA          11278   \n",
       "3  Chicago O'Hare International     Chicago          IL          11042   \n",
       "4         Norfolk International     Norfolk          VA          10397   \n",
       "\n",
       "                            DestAirportName    DestCity DestState  CRSDepTime  \\\n",
       "0             John F. Kennedy International    New York        NY        1539   \n",
       "1              Chicago Midway International     Chicago        IL         710   \n",
       "2         Ronald Reagan Washington National  Washington        DC         810   \n",
       "3           Cleveland-Hopkins International   Cleveland        OH         804   \n",
       "4  Hartsfield-Jackson Atlanta International     Atlanta        GA         545   \n",
       "\n",
       "   DepDelay  DepDel15  CRSArrTime  ArrDelay  ArrDel15  Cancelled  \n",
       "0         4       0.0        1824        13         0          0  \n",
       "1         3       0.0         740        22         1          0  \n",
       "2        -3       0.0        1614        -7         0          0  \n",
       "3        35       1.0        1027        33         1          0  \n",
       "4        -1       0.0         728        -9         0          0  "
      ]
     },
     "execution_count": 11,
     "metadata": {},
     "output_type": "execute_result"
    }
   ],
   "source": [
    "import pandas as pd\n",
    "url = \"https://raw.githubusercontent.com/MicrosoftDocs/ml-basics/master/challenges/data/flights.csv\"\n",
    "df_flight = pd.read_csv(url, sep = ',', header='infer')\n",
    "df_flight.head()"
   ]
  },
  {
   "cell_type": "code",
   "execution_count": 12,
   "id": "a6693514",
   "metadata": {},
   "outputs": [
    {
     "data": {
      "text/plain": [
       "Year                    0\n",
       "Month                   0\n",
       "DayofMonth              0\n",
       "DayOfWeek               0\n",
       "Carrier                 0\n",
       "OriginAirportID         0\n",
       "OriginAirportName       0\n",
       "OriginCity              0\n",
       "OriginState             0\n",
       "DestAirportID           0\n",
       "DestAirportName         0\n",
       "DestCity                0\n",
       "DestState               0\n",
       "CRSDepTime              0\n",
       "DepDelay                0\n",
       "DepDel15             2761\n",
       "CRSArrTime              0\n",
       "ArrDelay                0\n",
       "ArrDel15                0\n",
       "Cancelled               0\n",
       "dtype: int64"
      ]
     },
     "execution_count": 12,
     "metadata": {},
     "output_type": "execute_result"
    }
   ],
   "source": [
    "df_flight.isnull().sum()"
   ]
  },
  {
   "cell_type": "code",
   "execution_count": 13,
   "id": "927d9885",
   "metadata": {},
   "outputs": [
    {
     "data": {
      "text/html": [
       "<div>\n",
       "<style scoped>\n",
       "    .dataframe tbody tr th:only-of-type {\n",
       "        vertical-align: middle;\n",
       "    }\n",
       "\n",
       "    .dataframe tbody tr th {\n",
       "        vertical-align: top;\n",
       "    }\n",
       "\n",
       "    .dataframe thead th {\n",
       "        text-align: right;\n",
       "    }\n",
       "</style>\n",
       "<table border=\"1\" class=\"dataframe\">\n",
       "  <thead>\n",
       "    <tr style=\"text-align: right;\">\n",
       "      <th></th>\n",
       "      <th>DepDelay</th>\n",
       "      <th>DepDel15</th>\n",
       "    </tr>\n",
       "  </thead>\n",
       "  <tbody>\n",
       "    <tr>\n",
       "      <th>171</th>\n",
       "      <td>0</td>\n",
       "      <td>NaN</td>\n",
       "    </tr>\n",
       "    <tr>\n",
       "      <th>359</th>\n",
       "      <td>0</td>\n",
       "      <td>NaN</td>\n",
       "    </tr>\n",
       "    <tr>\n",
       "      <th>429</th>\n",
       "      <td>0</td>\n",
       "      <td>NaN</td>\n",
       "    </tr>\n",
       "    <tr>\n",
       "      <th>545</th>\n",
       "      <td>0</td>\n",
       "      <td>NaN</td>\n",
       "    </tr>\n",
       "    <tr>\n",
       "      <th>554</th>\n",
       "      <td>0</td>\n",
       "      <td>NaN</td>\n",
       "    </tr>\n",
       "    <tr>\n",
       "      <th>...</th>\n",
       "      <td>...</td>\n",
       "      <td>...</td>\n",
       "    </tr>\n",
       "    <tr>\n",
       "      <th>271410</th>\n",
       "      <td>0</td>\n",
       "      <td>NaN</td>\n",
       "    </tr>\n",
       "    <tr>\n",
       "      <th>271607</th>\n",
       "      <td>0</td>\n",
       "      <td>NaN</td>\n",
       "    </tr>\n",
       "    <tr>\n",
       "      <th>271634</th>\n",
       "      <td>0</td>\n",
       "      <td>NaN</td>\n",
       "    </tr>\n",
       "    <tr>\n",
       "      <th>271671</th>\n",
       "      <td>0</td>\n",
       "      <td>NaN</td>\n",
       "    </tr>\n",
       "    <tr>\n",
       "      <th>271885</th>\n",
       "      <td>0</td>\n",
       "      <td>NaN</td>\n",
       "    </tr>\n",
       "  </tbody>\n",
       "</table>\n",
       "<p>2761 rows × 2 columns</p>\n",
       "</div>"
      ],
      "text/plain": [
       "        DepDelay  DepDel15\n",
       "171            0       NaN\n",
       "359            0       NaN\n",
       "429            0       NaN\n",
       "545            0       NaN\n",
       "554            0       NaN\n",
       "...          ...       ...\n",
       "271410         0       NaN\n",
       "271607         0       NaN\n",
       "271634         0       NaN\n",
       "271671         0       NaN\n",
       "271885         0       NaN\n",
       "\n",
       "[2761 rows x 2 columns]"
      ]
     },
     "execution_count": 13,
     "metadata": {},
     "output_type": "execute_result"
    }
   ],
   "source": [
    "df_flight[df_flight.isnull().any(axis = 1)][['DepDelay','DepDel15']]"
   ]
  },
  {
   "cell_type": "code",
   "execution_count": 14,
   "id": "175839a8",
   "metadata": {},
   "outputs": [
    {
     "data": {
      "text/plain": [
       "count    2761.0\n",
       "mean        0.0\n",
       "std         0.0\n",
       "min         0.0\n",
       "25%         0.0\n",
       "50%         0.0\n",
       "75%         0.0\n",
       "max         0.0\n",
       "Name: DepDelay, dtype: float64"
      ]
     },
     "execution_count": 14,
     "metadata": {},
     "output_type": "execute_result"
    }
   ],
   "source": [
    "df_flight[df_flight.isnull().any(axis = 1)].DepDelay.describe()"
   ]
  },
  {
   "cell_type": "code",
   "execution_count": 15,
   "id": "1b58ae60",
   "metadata": {},
   "outputs": [
    {
     "data": {
      "text/plain": [
       "Year                 0\n",
       "Month                0\n",
       "DayofMonth           0\n",
       "DayOfWeek            0\n",
       "Carrier              0\n",
       "OriginAirportID      0\n",
       "OriginAirportName    0\n",
       "OriginCity           0\n",
       "OriginState          0\n",
       "DestAirportID        0\n",
       "DestAirportName      0\n",
       "DestCity             0\n",
       "DestState            0\n",
       "CRSDepTime           0\n",
       "DepDelay             0\n",
       "DepDel15             0\n",
       "CRSArrTime           0\n",
       "ArrDelay             0\n",
       "ArrDel15             0\n",
       "Cancelled            0\n",
       "dtype: int64"
      ]
     },
     "execution_count": 15,
     "metadata": {},
     "output_type": "execute_result"
    }
   ],
   "source": [
    "df_flight.DepDel15 = df_flight.DepDel15.fillna(0)\n",
    "df_flight.isnull().sum()"
   ]
  },
  {
   "cell_type": "code",
   "execution_count": 16,
   "id": "c695b86d",
   "metadata": {},
   "outputs": [
    {
     "data": {
      "text/html": [
       "<div>\n",
       "<style scoped>\n",
       "    .dataframe tbody tr th:only-of-type {\n",
       "        vertical-align: middle;\n",
       "    }\n",
       "\n",
       "    .dataframe tbody tr th {\n",
       "        vertical-align: top;\n",
       "    }\n",
       "\n",
       "    .dataframe thead th {\n",
       "        text-align: right;\n",
       "    }\n",
       "</style>\n",
       "<table border=\"1\" class=\"dataframe\">\n",
       "  <thead>\n",
       "    <tr style=\"text-align: right;\">\n",
       "      <th></th>\n",
       "      <th>DepDelay</th>\n",
       "      <th>DepDel15</th>\n",
       "    </tr>\n",
       "  </thead>\n",
       "  <tbody>\n",
       "  </tbody>\n",
       "</table>\n",
       "</div>"
      ],
      "text/plain": [
       "Empty DataFrame\n",
       "Columns: [DepDelay, DepDel15]\n",
       "Index: []"
      ]
     },
     "execution_count": 16,
     "metadata": {},
     "output_type": "execute_result"
    }
   ],
   "source": [
    "import numpy as np\n",
    "df_flight[np.logical_and(df_flight.DepDelay > 15, df_flight.DepDel15 == 0 )][['DepDelay','DepDel15']]"
   ]
  },
  {
   "cell_type": "code",
   "execution_count": 17,
   "id": "5e9e77e4",
   "metadata": {},
   "outputs": [
    {
     "data": {
      "text/plain": [
       "Year                 0\n",
       "Month                0\n",
       "DayofMonth           0\n",
       "DayOfWeek            0\n",
       "Carrier              0\n",
       "OriginAirportID      0\n",
       "OriginAirportName    0\n",
       "OriginCity           0\n",
       "OriginState          0\n",
       "DestAirportID        0\n",
       "DestAirportName      0\n",
       "DestCity             0\n",
       "DestState            0\n",
       "CRSDepTime           0\n",
       "DepDelay             0\n",
       "DepDel15             0\n",
       "CRSArrTime           0\n",
       "ArrDelay             0\n",
       "ArrDel15             0\n",
       "Cancelled            0\n",
       "dtype: int64"
      ]
     },
     "execution_count": 17,
     "metadata": {},
     "output_type": "execute_result"
    }
   ],
   "source": [
    "df_flight.isnull().sum()"
   ]
  },
  {
   "cell_type": "code",
   "execution_count": 31,
   "id": "f29ea79f",
   "metadata": {},
   "outputs": [
    {
     "name": "stdout",
     "output_type": "stream",
     "text": [
      "DepDelay \n",
      "Minimum:-63.00\n",
      "Maximum:694.00\n",
      "Mean:1.92\n",
      "Median:-1.00\n",
      "Mode:-3.00\n",
      "\n",
      "ArrDelay \n",
      "Minimum:-32.00\n",
      "Maximum:37.00\n",
      "Mean:-2.66\n",
      "Median:-4.00\n",
      "Mode:0.00\n",
      "\n"
     ]
    },
    {
     "data": {
      "image/png": "[encoded data removed]",
      "text/plain": [
       "<Figure size 720x705 with 2 Axes>"
      ]
     },
     "metadata": {
      "needs_background": "light"
     },
     "output_type": "display_data"
    },
    {
     "data": {
      "image/png": "[encoded data removed]",
      "text/plain": [
       "<Figure size 720x720 with 2 Axes>"
      ]
     },
     "metadata": {
      "needs_background": "light"
     },
     "output_type": "display_data"
    }
   ],
   "source": [
    "# Function to show summary stats and distribution for a column\n",
    "import matplotlib\n",
    "matplotlib.use('TkAgg')\n",
    "\n",
    "def show_col_distribution (col_data):\n",
    "    from matplotlib import pyplot as plt\n",
    "\n",
    "    # Get statistics\n",
    "    \n",
    "    min_val = col_data.min()\n",
    "    max_val = col_data.max()\n",
    "    mean_val = col_data.mean()\n",
    "    med_val = col_data.median()\n",
    "    mod_val = col_data.mode()[0]\n",
    "    \n",
    "    print(col_data.name,\"\\nMinimum:{:.2f}\\nMaximum:{:.2f}\\nMean:{:.2f}\\nMedian:{:.2f}\\nMode:{:.2f}\\n\".format(min_val,\n",
    "                                                                                                            max_val,\n",
    "                                                                                                            mean_val,\n",
    "                                                                                                            med_val,\n",
    "                                                                                                            mod_val)\n",
    "    )\n",
    "    \n",
    "    # Create a figure for 2 subplots (2 rows, 1 column)\n",
    "    \n",
    "    fig, ax = plt.subplots(2,  1, figsize = (10,10))\n",
    "    \n",
    "    ax[0].hist(col_data)\n",
    "    ax[0].set_ylabel('Frequency')\n",
    "    \n",
    "    # Add lines for the mean, median, and mode\n",
    "    \n",
    "    ax[0].axvline(min_val, color = 'gray', linestyle='dashed', linewidth = 2)\n",
    "    ax[0].axvline(max_val, color = 'green', linestyle='dashed', linewidth = 2)\n",
    "    ax[0].axvline(mean_val, color = 'yellow', linestyle='dashed', linewidth = 2)\n",
    "    ax[0].axvline(med_val, color = 'red', linestyle='dashed', linewidth = 2)\n",
    "    ax[0].axvline(mod_val, color = 'cyan', linestyle='dashed', linewidth = 2)\n",
    "    \n",
    "    # Plot the boxplot\n",
    "    \n",
    "    ax[1].boxplot(col_data, vert=False)\n",
    "    ax[1].set_xlabel('Value')\n",
    "    \n",
    "    # Add a title to the Figure\n",
    "    fig.suptitle(col_data.name)\n",
    "    \n",
    "    # Show the figure\n",
    "    fig.show()\n",
    "    \n",
    "    \n",
    "    # Call the function for each delay field\n",
    "    \n",
    "    \n",
    "Target_Fields = ['DepDelay','ArrDelay']\n",
    "\n",
    "for col in Target_Fields:\n",
    "    show_col_distribution(df_flight[col])\n",
    "    \n",
    "    "
   ]
  },
  {
   "cell_type": "code",
   "execution_count": 23,
   "id": "1cee82a2",
   "metadata": {},
   "outputs": [
    {
     "name": "stdout",
     "output_type": "stream",
     "text": [
      "-33.0\n",
      "38.0\n"
     ]
    }
   ],
   "source": [
    "# Trim outliers for ArrDelay based on 1% and 90% percentiles\n",
    "\n",
    "Arr01_pertile = df_flight.ArrDelay.quantile(0.01)\n",
    "print(Arr10_pertile)\n",
    "Arr90_pertile = df_flight.ArrDelay.quantile(0.90)\n",
    "print(Arr90_pertile)"
   ]
  },
  {
   "cell_type": "code",
   "execution_count": 27,
   "id": "fb8bd1e4",
   "metadata": {},
   "outputs": [],
   "source": [
    "df_flight = df_flight[np.logical_and(df_flight.ArrDelay > Arr01_pertile, \\\n",
    "                                         df_flight.ArrDelay < Arr90_pertile )]"
   ]
  },
  {
   "cell_type": "code",
   "execution_count": 29,
   "id": "500a970a",
   "metadata": {},
   "outputs": [],
   "source": [
    "# Trim outliers for DepDelay based on 1% and 90% percentiles\n",
    "\n",
    "Dep01_pcntile = df_flight.DepDelay.quantile(0.01)\n",
    "Dep90_pcntile = df_flight.DepDelay.quantile(0.90)\n",
    "\n",
    "Arr_Dep_01_90_per = df_flight[np.logical_and(df_flight.DepDelay > Dep01_pcntile, \\\n",
    "                                         df_flight.DepDelay < Dep90_pcntile )]"
   ]
  },
  {
   "cell_type": "code",
   "execution_count": 30,
   "id": "ee5bbe55",
   "metadata": {
    "scrolled": true
   },
   "outputs": [
    {
     "name": "stdout",
     "output_type": "stream",
     "text": [
      "DepDelay \n",
      "Minimum:-11.00\n",
      "Maximum:16.00\n",
      "Mean:-0.92\n",
      "Median:-2.00\n",
      "Mode:-3.00\n",
      "\n",
      "ArrDelay \n",
      "Minimum:-32.00\n",
      "Maximum:37.00\n",
      "Mean:-5.03\n",
      "Median:-6.00\n",
      "Mode:0.00\n",
      "\n"
     ]
    },
    {
     "name": "stderr",
     "output_type": "stream",
     "text": [
      "/var/folders/6v/rtpyzjyn32qb24p3xss4scsr0000gn/T/ipykernel_22820/1966653548.py:47: UserWarning: Matplotlib is currently using module://matplotlib_inline.backend_inline, which is a non-GUI backend, so cannot show the figure.\n",
      "  fig.show()\n",
      "/var/folders/6v/rtpyzjyn32qb24p3xss4scsr0000gn/T/ipykernel_22820/1966653548.py:47: UserWarning: Matplotlib is currently using module://matplotlib_inline.backend_inline, which is a non-GUI backend, so cannot show the figure.\n",
      "  fig.show()\n"
     ]
    },
    {
     "data": {
      "image/png": "[encoded data removed]",
      "text/plain": [
       "<Figure size 720x720 with 2 Axes>"
      ]
     },
     "metadata": {
      "needs_background": "light"
     },
     "output_type": "display_data"
    },
    {
     "data": {
      "image/png": "[encoded data removed]",
      "text/plain": [
       "<Figure size 720x720 with 2 Axes>"
      ]
     },
     "metadata": {
      "needs_background": "light"
     },
     "output_type": "display_data"
    }
   ],
   "source": [
    "# View the revised distributions\n",
    "# Already defined Target_Fields = ['DepDelay','ArrDelay']\n",
    "\n",
    "for col in Target_Fields:\n",
    "    show_col_distribution(Arr_Dep_01_90_per[col])\n",
    "\n"
   ]
  },
  {
   "cell_type": "code",
   "execution_count": null,
   "id": "3fb9782b",
   "metadata": {},
   "outputs": [],
   "source": []
  },
  {
   "cell_type": "code",
   "execution_count": null,
   "id": "465f49de",
   "metadata": {},
   "outputs": [],
   "source": []
  }
 ],
 "metadata": {
  "kernelspec": {
   "display_name": "Python 3 (ipykernel)",
   "language": "python",
   "name": "python3"
  },
  "language_info": {
   "codemirror_mode": {
    "name": "ipython",
    "version": 3
   },
   "file_extension": ".py",
   "mimetype": "text/x-python",
   "name": "python",
   "nbconvert_exporter": "python",
   "pygments_lexer": "ipython3",
   "version": "3.9.7"
  }
 },
 "nbformat": 4,
 "nbformat_minor": 5
}
